{
 "cells": [
  {
   "cell_type": "code",
   "execution_count": 1,
   "metadata": {
    "collapsed": false
   },
   "outputs": [
    {
     "name": "stderr",
     "output_type": "stream",
     "text": [
      "2 ^ 3 is\n"
     ]
    },
    {
     "data": {
      "text/html": [
       "8"
      ],
      "text/latex": [
       "8"
      ],
      "text/markdown": [
       "8"
      ],
      "text/plain": [
       "[1] 8"
      ]
     },
     "metadata": {},
     "output_type": "display_data"
    },
    {
     "data": {
      "text/html": [
       "8"
      ],
      "text/latex": [
       "8"
      ],
      "text/markdown": [
       "8"
      ],
      "text/plain": [
       "[1] 8"
      ]
     },
     "metadata": {},
     "output_type": "display_data"
    },
    {
     "name": "stderr",
     "output_type": "stream",
     "text": [
      "5 % 2 is\n"
     ]
    },
    {
     "data": {
      "text/html": [
       "1"
      ],
      "text/latex": [
       "1"
      ],
      "text/markdown": [
       "1"
      ],
      "text/plain": [
       "[1] 1"
      ]
     },
     "metadata": {},
     "output_type": "display_data"
    }
   ],
   "source": [
    "# a power b, can use both ^ and **\n",
    "message (\"2 ^ 3 is\")\n",
    "2 ^ 3\n",
    "2 ** 3\n",
    "# modulus operator is %%\n",
    "message(\"5 % 2 is\")\n",
    "5 %% 2 # 5 % 2 gives error in R"
   ]
  },
  {
   "cell_type": "code",
   "execution_count": 2,
   "metadata": {
    "collapsed": false
   },
   "outputs": [
    {
     "data": {
      "text/html": [
       "2.2"
      ],
      "text/latex": [
       "2.2"
      ],
      "text/markdown": [
       "2.2"
      ],
      "text/plain": [
       "[1] 2.2"
      ]
     },
     "metadata": {},
     "output_type": "display_data"
    },
    {
     "data": {
      "text/html": [
       "5"
      ],
      "text/latex": [
       "5"
      ],
      "text/markdown": [
       "5"
      ],
      "text/plain": [
       "[1] 5"
      ]
     },
     "metadata": {},
     "output_type": "display_data"
    },
    {
     "data": {
      "text/html": [
       "TRUE"
      ],
      "text/latex": [
       "TRUE"
      ],
      "text/markdown": [
       "TRUE"
      ],
      "text/plain": [
       "[1] TRUE"
      ]
     },
     "metadata": {},
     "output_type": "display_data"
    },
    {
     "data": {
      "text/html": [
       "FALSE"
      ],
      "text/latex": [
       "FALSE"
      ],
      "text/markdown": [
       "FALSE"
      ],
      "text/plain": [
       "[1] FALSE"
      ]
     },
     "metadata": {},
     "output_type": "display_data"
    },
    {
     "data": {
      "text/html": [
       "\"Hello World!\""
      ],
      "text/latex": [
       "\"Hello World!\""
      ],
      "text/markdown": [
       "\"Hello World!\""
      ],
      "text/plain": [
       "[1] \"Hello World!\""
      ]
     },
     "metadata": {},
     "output_type": "display_data"
    },
    {
     "data": {
      "text/html": [
       "\"Single Quote Char\""
      ],
      "text/latex": [
       "\"Single Quote Char\""
      ],
      "text/markdown": [
       "\"Single Quote Char\""
      ],
      "text/plain": [
       "[1] \"Single Quote Char\""
      ]
     },
     "metadata": {},
     "output_type": "display_data"
    },
    {
     "data": {
      "text/html": [
       "\"numeric\""
      ],
      "text/latex": [
       "\"numeric\""
      ],
      "text/markdown": [
       "\"numeric\""
      ],
      "text/plain": [
       "[1] \"numeric\""
      ]
     },
     "metadata": {},
     "output_type": "display_data"
    },
    {
     "data": {
      "text/html": [
       "\"numeric\""
      ],
      "text/latex": [
       "\"numeric\""
      ],
      "text/markdown": [
       "\"numeric\""
      ],
      "text/plain": [
       "[1] \"numeric\""
      ]
     },
     "metadata": {},
     "output_type": "display_data"
    },
    {
     "data": {
      "text/html": [
       "\"logical\""
      ],
      "text/latex": [
       "\"logical\""
      ],
      "text/markdown": [
       "\"logical\""
      ],
      "text/plain": [
       "[1] \"logical\""
      ]
     },
     "metadata": {},
     "output_type": "display_data"
    },
    {
     "data": {
      "text/html": [
       "\"logical\""
      ],
      "text/latex": [
       "\"logical\""
      ],
      "text/markdown": [
       "\"logical\""
      ],
      "text/plain": [
       "[1] \"logical\""
      ]
     },
     "metadata": {},
     "output_type": "display_data"
    },
    {
     "data": {
      "text/html": [
       "\"character\""
      ],
      "text/latex": [
       "\"character\""
      ],
      "text/markdown": [
       "\"character\""
      ],
      "text/plain": [
       "[1] \"character\""
      ]
     },
     "metadata": {},
     "output_type": "display_data"
    },
    {
     "data": {
      "text/html": [
       "\"character\""
      ],
      "text/latex": [
       "\"character\""
      ],
      "text/markdown": [
       "\"character\""
      ],
      "text/plain": [
       "[1] \"character\""
      ]
     },
     "metadata": {},
     "output_type": "display_data"
    }
   ],
   "source": [
    "n <- 2.2\n",
    "i <- 5\n",
    "t <- TRUE\n",
    "f <- FALSE\n",
    "char <- \"Hello World!\"\n",
    "c <- 'Single Quote Char'\n",
    "n\n",
    "i\n",
    "t\n",
    "f\n",
    "char\n",
    "c\n",
    "class(n)\n",
    "class(i)\n",
    "class(t)\n",
    "class(f)\n",
    "class(char)\n",
    "class(c)"
   ]
  },
  {
   "cell_type": "code",
   "execution_count": 3,
   "metadata": {
    "collapsed": true
   },
   "outputs": [],
   "source": [
    "# vector can only take 1 datatype\n",
    "temps <- c(72,71,70,79,69,66,70)"
   ]
  },
  {
   "cell_type": "markdown",
   "metadata": {
    "collapsed": false
   },
   "source": [
    "# "
   ]
  },
  {
   "cell_type": "code",
   "execution_count": 4,
   "metadata": {
    "collapsed": false
   },
   "outputs": [
    {
     "data": {
      "text/html": [
       "<ol class=list-inline>\n",
       "\t<li>72</li>\n",
       "\t<li>71</li>\n",
       "\t<li>70</li>\n",
       "\t<li>79</li>\n",
       "\t<li>69</li>\n",
       "\t<li>66</li>\n",
       "\t<li>70</li>\n",
       "</ol>\n"
      ],
      "text/latex": [
       "\\begin{enumerate*}\n",
       "\\item 72\n",
       "\\item 71\n",
       "\\item 70\n",
       "\\item 79\n",
       "\\item 69\n",
       "\\item 66\n",
       "\\item 70\n",
       "\\end{enumerate*}\n"
      ],
      "text/markdown": [
       "1. 72\n",
       "2. 71\n",
       "3. 70\n",
       "4. 79\n",
       "5. 69\n",
       "6. 66\n",
       "7. 70\n",
       "\n",
       "\n"
      ],
      "text/plain": [
       "[1] 72 71 70 79 69 66 70"
      ]
     },
     "metadata": {},
     "output_type": "display_data"
    }
   ],
   "source": [
    "temps"
   ]
  },
  {
   "cell_type": "code",
   "execution_count": 5,
   "metadata": {
    "collapsed": false
   },
   "outputs": [
    {
     "data": {
      "text/html": [
       "<dl class=dl-horizontal>\n",
       "\t<dt>Mon</dt>\n",
       "\t\t<dd>72</dd>\n",
       "\t<dt>Tue</dt>\n",
       "\t\t<dd>71</dd>\n",
       "\t<dt>Wed</dt>\n",
       "\t\t<dd>70</dd>\n",
       "\t<dt>Thu</dt>\n",
       "\t\t<dd>79</dd>\n",
       "\t<dt>Fri</dt>\n",
       "\t\t<dd>69</dd>\n",
       "\t<dt>Sat</dt>\n",
       "\t\t<dd>66</dd>\n",
       "\t<dt>Sun</dt>\n",
       "\t\t<dd>70</dd>\n",
       "</dl>\n"
      ],
      "text/latex": [
       "\\begin{description*}\n",
       "\\item[Mon] 72\n",
       "\\item[Tue] 71\n",
       "\\item[Wed] 70\n",
       "\\item[Thu] 79\n",
       "\\item[Fri] 69\n",
       "\\item[Sat] 66\n",
       "\\item[Sun] 70\n",
       "\\end{description*}\n"
      ],
      "text/markdown": [
       "Mon\n",
       ":   72Tue\n",
       ":   71Wed\n",
       ":   70Thu\n",
       ":   79Fri\n",
       ":   69Sat\n",
       ":   66Sun\n",
       ":   70\n",
       "\n"
      ],
      "text/plain": [
       "Mon Tue Wed Thu Fri Sat Sun \n",
       " 72  71  70  79  69  66  70 "
      ]
     },
     "metadata": {},
     "output_type": "display_data"
    }
   ],
   "source": [
    "names(temps) <- c('Mon','Tue','Wed','Thu','Fri','Sat','Sun')\n",
    "temps"
   ]
  },
  {
   "cell_type": "code",
   "execution_count": 6,
   "metadata": {
    "collapsed": true
   },
   "outputs": [],
   "source": [
    "days = c('Mon','Tue','Wed','Thu','Fri','Sat','Sun')"
   ]
  },
  {
   "cell_type": "code",
   "execution_count": 7,
   "metadata": {
    "collapsed": false
   },
   "outputs": [
    {
     "data": {
      "text/html": [
       "<dl class=dl-horizontal>\n",
       "\t<dt>Mon</dt>\n",
       "\t\t<dd>72</dd>\n",
       "\t<dt>Tue</dt>\n",
       "\t\t<dd>71</dd>\n",
       "\t<dt>Wed</dt>\n",
       "\t\t<dd>70</dd>\n",
       "\t<dt>Thu</dt>\n",
       "\t\t<dd>79</dd>\n",
       "\t<dt>Fri</dt>\n",
       "\t\t<dd>69</dd>\n",
       "\t<dt>Sat</dt>\n",
       "\t\t<dd>66</dd>\n",
       "\t<dt>Sun</dt>\n",
       "\t\t<dd>70</dd>\n",
       "</dl>\n"
      ],
      "text/latex": [
       "\\begin{description*}\n",
       "\\item[Mon] 72\n",
       "\\item[Tue] 71\n",
       "\\item[Wed] 70\n",
       "\\item[Thu] 79\n",
       "\\item[Fri] 69\n",
       "\\item[Sat] 66\n",
       "\\item[Sun] 70\n",
       "\\end{description*}\n"
      ],
      "text/markdown": [
       "Mon\n",
       ":   72Tue\n",
       ":   71Wed\n",
       ":   70Thu\n",
       ":   79Fri\n",
       ":   69Sat\n",
       ":   66Sun\n",
       ":   70\n",
       "\n"
      ],
      "text/plain": [
       "Mon Tue Wed Thu Fri Sat Sun \n",
       " 72  71  70  79  69  66  70 "
      ]
     },
     "metadata": {},
     "output_type": "display_data"
    }
   ],
   "source": [
    "names(temps) <- days\n",
    "temps"
   ]
  },
  {
   "cell_type": "code",
   "execution_count": 8,
   "metadata": {
    "collapsed": true
   },
   "outputs": [],
   "source": [
    "v1 <- c(1,2,3)\n",
    "v2 <- c(4,3,2)"
   ]
  },
  {
   "cell_type": "code",
   "execution_count": 9,
   "metadata": {
    "collapsed": false
   },
   "outputs": [
    {
     "data": {
      "text/html": [
       "<ol class=list-inline>\n",
       "\t<li>5</li>\n",
       "\t<li>5</li>\n",
       "\t<li>5</li>\n",
       "</ol>\n"
      ],
      "text/latex": [
       "\\begin{enumerate*}\n",
       "\\item 5\n",
       "\\item 5\n",
       "\\item 5\n",
       "\\end{enumerate*}\n"
      ],
      "text/markdown": [
       "1. 5\n",
       "2. 5\n",
       "3. 5\n",
       "\n",
       "\n"
      ],
      "text/plain": [
       "[1] 5 5 5"
      ]
     },
     "metadata": {},
     "output_type": "display_data"
    },
    {
     "data": {
      "text/html": [
       "<ol class=list-inline>\n",
       "\t<li>-3</li>\n",
       "\t<li>-1</li>\n",
       "\t<li>1</li>\n",
       "</ol>\n"
      ],
      "text/latex": [
       "\\begin{enumerate*}\n",
       "\\item -3\n",
       "\\item -1\n",
       "\\item 1\n",
       "\\end{enumerate*}\n"
      ],
      "text/markdown": [
       "1. -3\n",
       "2. -1\n",
       "3. 1\n",
       "\n",
       "\n"
      ],
      "text/plain": [
       "[1] -3 -1  1"
      ]
     },
     "metadata": {},
     "output_type": "display_data"
    },
    {
     "data": {
      "text/html": [
       "<ol class=list-inline>\n",
       "\t<li>4</li>\n",
       "\t<li>6</li>\n",
       "\t<li>6</li>\n",
       "</ol>\n"
      ],
      "text/latex": [
       "\\begin{enumerate*}\n",
       "\\item 4\n",
       "\\item 6\n",
       "\\item 6\n",
       "\\end{enumerate*}\n"
      ],
      "text/markdown": [
       "1. 4\n",
       "2. 6\n",
       "3. 6\n",
       "\n",
       "\n"
      ],
      "text/plain": [
       "[1] 4 6 6"
      ]
     },
     "metadata": {},
     "output_type": "display_data"
    },
    {
     "data": {
      "text/html": [
       "<ol class=list-inline>\n",
       "\t<li>0.25</li>\n",
       "\t<li>0.666666666666667</li>\n",
       "\t<li>1.5</li>\n",
       "</ol>\n"
      ],
      "text/latex": [
       "\\begin{enumerate*}\n",
       "\\item 0.25\n",
       "\\item 0.666666666666667\n",
       "\\item 1.5\n",
       "\\end{enumerate*}\n"
      ],
      "text/markdown": [
       "1. 0.25\n",
       "2. 0.666666666666667\n",
       "3. 1.5\n",
       "\n",
       "\n"
      ],
      "text/plain": [
       "[1] 0.2500000 0.6666667 1.5000000"
      ]
     },
     "metadata": {},
     "output_type": "display_data"
    }
   ],
   "source": [
    "v1 + v2\n",
    "v1 - v2\n",
    "v1 * v2\n",
    "v1 / v2"
   ]
  },
  {
   "cell_type": "code",
   "execution_count": 10,
   "metadata": {
    "collapsed": false
   },
   "outputs": [
    {
     "data": {
      "text/html": [
       "6"
      ],
      "text/latex": [
       "6"
      ],
      "text/markdown": [
       "6"
      ],
      "text/plain": [
       "[1] 6"
      ]
     },
     "metadata": {},
     "output_type": "display_data"
    }
   ],
   "source": [
    "sum.of.vec <- sum(v1)\n",
    "sum.of.vec"
   ]
  },
  {
   "cell_type": "code",
   "execution_count": 11,
   "metadata": {
    "collapsed": false
   },
   "outputs": [
    {
     "data": {
      "text/html": [
       "2"
      ],
      "text/latex": [
       "2"
      ],
      "text/markdown": [
       "2"
      ],
      "text/plain": [
       "[1] 2"
      ]
     },
     "metadata": {},
     "output_type": "display_data"
    },
    {
     "data": {
      "text/html": [
       "1"
      ],
      "text/latex": [
       "1"
      ],
      "text/markdown": [
       "1"
      ],
      "text/plain": [
       "[1] 1"
      ]
     },
     "metadata": {},
     "output_type": "display_data"
    },
    {
     "data": {
      "text/html": [
       "3"
      ],
      "text/latex": [
       "3"
      ],
      "text/markdown": [
       "3"
      ],
      "text/plain": [
       "[1] 3"
      ]
     },
     "metadata": {},
     "output_type": "display_data"
    },
    {
     "data": {
      "text/html": [
       "1"
      ],
      "text/latex": [
       "1"
      ],
      "text/markdown": [
       "1"
      ],
      "text/plain": [
       "[1] 1"
      ]
     },
     "metadata": {},
     "output_type": "display_data"
    },
    {
     "data": {
      "text/html": [
       "6"
      ],
      "text/latex": [
       "6"
      ],
      "text/markdown": [
       "6"
      ],
      "text/plain": [
       "[1] 6"
      ]
     },
     "metadata": {},
     "output_type": "display_data"
    }
   ],
   "source": [
    "# builtin functions in R\n",
    "mean(v1)\n",
    "sd(v1)\n",
    "max(v1)\n",
    "min(v1)\n",
    "prod(v1)"
   ]
  },
  {
   "cell_type": "code",
   "execution_count": 12,
   "metadata": {
    "collapsed": false
   },
   "outputs": [
    {
     "data": {
      "text/html": [
       "200"
      ],
      "text/latex": [
       "200"
      ],
      "text/markdown": [
       "200"
      ],
      "text/plain": [
       "[1] 200"
      ]
     },
     "metadata": {},
     "output_type": "display_data"
    },
    {
     "data": {
      "text/html": [
       "<ol class=list-inline>\n",
       "\t<li>100</li>\n",
       "\t<li>200</li>\n",
       "</ol>\n"
      ],
      "text/latex": [
       "\\begin{enumerate*}\n",
       "\\item 100\n",
       "\\item 200\n",
       "\\end{enumerate*}\n"
      ],
      "text/markdown": [
       "1. 100\n",
       "2. 200\n",
       "\n",
       "\n"
      ],
      "text/plain": [
       "[1] 100 200"
      ]
     },
     "metadata": {},
     "output_type": "display_data"
    },
    {
     "data": {
      "text/html": [
       "<ol class=list-inline>\n",
       "\t<li>100</li>\n",
       "\t<li>300</li>\n",
       "</ol>\n"
      ],
      "text/latex": [
       "\\begin{enumerate*}\n",
       "\\item 100\n",
       "\\item 300\n",
       "\\end{enumerate*}\n"
      ],
      "text/markdown": [
       "1. 100\n",
       "2. 300\n",
       "\n",
       "\n"
      ],
      "text/plain": [
       "[1] 100 300"
      ]
     },
     "metadata": {},
     "output_type": "display_data"
    }
   ],
   "source": [
    "v1 <- c(100,200,300)\n",
    "v2 <- c('a','b','c')\n",
    "v1[2]\n",
    "v1[1:2]\n",
    "v1[c(1,3)]"
   ]
  },
  {
   "cell_type": "code",
   "execution_count": 13,
   "metadata": {
    "collapsed": false
   },
   "outputs": [
    {
     "data": {
      "text/html": [
       "<ol class=list-inline>\n",
       "\t<li>1</li>\n",
       "\t<li>2</li>\n",
       "\t<li>3</li>\n",
       "\t<li>4</li>\n",
       "\t<li>5</li>\n",
       "\t<li>6</li>\n",
       "\t<li>7</li>\n",
       "\t<li>8</li>\n",
       "\t<li>9</li>\n",
       "\t<li>10</li>\n",
       "</ol>\n"
      ],
      "text/latex": [
       "\\begin{enumerate*}\n",
       "\\item 1\n",
       "\\item 2\n",
       "\\item 3\n",
       "\\item 4\n",
       "\\item 5\n",
       "\\item 6\n",
       "\\item 7\n",
       "\\item 8\n",
       "\\item 9\n",
       "\\item 10\n",
       "\\end{enumerate*}\n"
      ],
      "text/markdown": [
       "1. 1\n",
       "2. 2\n",
       "3. 3\n",
       "4. 4\n",
       "5. 5\n",
       "6. 6\n",
       "7. 7\n",
       "8. 8\n",
       "9. 9\n",
       "10. 10\n",
       "\n",
       "\n"
      ],
      "text/plain": [
       " [1]  1  2  3  4  5  6  7  8  9 10"
      ]
     },
     "metadata": {},
     "output_type": "display_data"
    },
    {
     "data": {
      "text/html": [
       "<ol class=list-inline>\n",
       "\t<li>2</li>\n",
       "\t<li>3</li>\n",
       "\t<li>4</li>\n",
       "</ol>\n"
      ],
      "text/latex": [
       "\\begin{enumerate*}\n",
       "\\item 2\n",
       "\\item 3\n",
       "\\item 4\n",
       "\\end{enumerate*}\n"
      ],
      "text/markdown": [
       "1. 2\n",
       "2. 3\n",
       "3. 4\n",
       "\n",
       "\n"
      ],
      "text/plain": [
       "[1] 2 3 4"
      ]
     },
     "metadata": {},
     "output_type": "display_data"
    }
   ],
   "source": [
    "v <- c(1,2,3,4,5,6,7,8,9,10)\n",
    "v\n",
    "v[2:4]"
   ]
  },
  {
   "cell_type": "code",
   "execution_count": 14,
   "metadata": {
    "collapsed": false
   },
   "outputs": [
    {
     "data": {
      "text/html": [
       "<strong>b:</strong> 2"
      ],
      "text/latex": [
       "\\textbf{b:} 2"
      ],
      "text/markdown": [
       "**b:** 2"
      ],
      "text/plain": [
       "b \n",
       "2 "
      ]
     },
     "metadata": {},
     "output_type": "display_data"
    },
    {
     "data": {
      "text/html": [
       "<strong>b:</strong> 2"
      ],
      "text/latex": [
       "\\textbf{b:} 2"
      ],
      "text/markdown": [
       "**b:** 2"
      ],
      "text/plain": [
       "b \n",
       "2 "
      ]
     },
     "metadata": {},
     "output_type": "display_data"
    },
    {
     "data": {
      "text/html": [
       "<dl class=dl-horizontal>\n",
       "\t<dt>c</dt>\n",
       "\t\t<dd>3</dd>\n",
       "\t<dt>d</dt>\n",
       "\t\t<dd>4</dd>\n",
       "\t<dt>a</dt>\n",
       "\t\t<dd>1</dd>\n",
       "</dl>\n"
      ],
      "text/latex": [
       "\\begin{description*}\n",
       "\\item[c] 3\n",
       "\\item[d] 4\n",
       "\\item[a] 1\n",
       "\\end{description*}\n"
      ],
      "text/markdown": [
       "c\n",
       ":   3d\n",
       ":   4a\n",
       ":   1\n",
       "\n"
      ],
      "text/plain": [
       "c d a \n",
       "3 4 1 "
      ]
     },
     "metadata": {},
     "output_type": "display_data"
    }
   ],
   "source": [
    "v <- c(1,2,3,4)\n",
    "names(v) <- c('a','b','c','d')\n",
    "v[2]\n",
    "v['b']\n",
    "v[c('c','d','a')]"
   ]
  },
  {
   "cell_type": "code",
   "execution_count": 15,
   "metadata": {
    "collapsed": false
   },
   "outputs": [
    {
     "data": {
      "text/html": [
       "<dl class=dl-horizontal>\n",
       "\t<dt>a</dt>\n",
       "\t\t<dd>1</dd>\n",
       "\t<dt>b</dt>\n",
       "\t\t<dd>2</dd>\n",
       "\t<dt>c</dt>\n",
       "\t\t<dd>3</dd>\n",
       "\t<dt>d</dt>\n",
       "\t\t<dd>4</dd>\n",
       "</dl>\n"
      ],
      "text/latex": [
       "\\begin{description*}\n",
       "\\item[a] 1\n",
       "\\item[b] 2\n",
       "\\item[c] 3\n",
       "\\item[d] 4\n",
       "\\end{description*}\n"
      ],
      "text/markdown": [
       "a\n",
       ":   1b\n",
       ":   2c\n",
       ":   3d\n",
       ":   4\n",
       "\n"
      ],
      "text/plain": [
       "a b c d \n",
       "1 2 3 4 "
      ]
     },
     "metadata": {},
     "output_type": "display_data"
    },
    {
     "data": {
      "text/html": [
       "<dl class=dl-horizontal>\n",
       "\t<dt>a</dt>\n",
       "\t\t<dd>FALSE</dd>\n",
       "\t<dt>b</dt>\n",
       "\t\t<dd>FALSE</dd>\n",
       "\t<dt>c</dt>\n",
       "\t\t<dd>TRUE</dd>\n",
       "\t<dt>d</dt>\n",
       "\t\t<dd>TRUE</dd>\n",
       "</dl>\n"
      ],
      "text/latex": [
       "\\begin{description*}\n",
       "\\item[a] FALSE\n",
       "\\item[b] FALSE\n",
       "\\item[c] TRUE\n",
       "\\item[d] TRUE\n",
       "\\end{description*}\n"
      ],
      "text/markdown": [
       "a\n",
       ":   FALSEb\n",
       ":   FALSEc\n",
       ":   TRUEd\n",
       ":   TRUE\n",
       "\n"
      ],
      "text/plain": [
       "    a     b     c     d \n",
       "FALSE FALSE  TRUE  TRUE "
      ]
     },
     "metadata": {},
     "output_type": "display_data"
    },
    {
     "data": {
      "text/html": [
       "<dl class=dl-horizontal>\n",
       "\t<dt>c</dt>\n",
       "\t\t<dd>3</dd>\n",
       "\t<dt>d</dt>\n",
       "\t\t<dd>4</dd>\n",
       "</dl>\n"
      ],
      "text/latex": [
       "\\begin{description*}\n",
       "\\item[c] 3\n",
       "\\item[d] 4\n",
       "\\end{description*}\n"
      ],
      "text/markdown": [
       "c\n",
       ":   3d\n",
       ":   4\n",
       "\n"
      ],
      "text/plain": [
       "c d \n",
       "3 4 "
      ]
     },
     "metadata": {},
     "output_type": "display_data"
    },
    {
     "data": {
      "text/html": [
       "<dl class=dl-horizontal>\n",
       "\t<dt>c</dt>\n",
       "\t\t<dd>3</dd>\n",
       "\t<dt>d</dt>\n",
       "\t\t<dd>4</dd>\n",
       "</dl>\n"
      ],
      "text/latex": [
       "\\begin{description*}\n",
       "\\item[c] 3\n",
       "\\item[d] 4\n",
       "\\end{description*}\n"
      ],
      "text/markdown": [
       "c\n",
       ":   3d\n",
       ":   4\n",
       "\n"
      ],
      "text/plain": [
       "c d \n",
       "3 4 "
      ]
     },
     "metadata": {},
     "output_type": "display_data"
    }
   ],
   "source": [
    "v\n",
    "v>2\n",
    "v[v>2]\n",
    "my.filter <- v>2\n",
    "v[my.filter]"
   ]
  },
  {
   "cell_type": "code",
   "execution_count": 16,
   "metadata": {
    "collapsed": false
   },
   "outputs": [],
   "source": [
    "#help('vector')\n",
    "#??vector\n",
    "#help.search('vector')"
   ]
  },
  {
   "cell_type": "code",
   "execution_count": 17,
   "metadata": {
    "collapsed": false
   },
   "outputs": [
    {
     "data": {
      "text/html": [
       "FALSE"
      ],
      "text/latex": [
       "FALSE"
      ],
      "text/markdown": [
       "FALSE"
      ],
      "text/plain": [
       "[1] FALSE"
      ]
     },
     "metadata": {},
     "output_type": "display_data"
    },
    {
     "data": {
      "text/html": [
       "TRUE"
      ],
      "text/latex": [
       "TRUE"
      ],
      "text/markdown": [
       "TRUE"
      ],
      "text/plain": [
       "[1] TRUE"
      ]
     },
     "metadata": {},
     "output_type": "display_data"
    }
   ],
   "source": [
    "5 > 6\n",
    "5 < 6"
   ]
  },
  {
   "cell_type": "code",
   "execution_count": 18,
   "metadata": {
    "collapsed": false
   },
   "outputs": [
    {
     "data": {
      "text/html": [
       "FALSE"
      ],
      "text/latex": [
       "FALSE"
      ],
      "text/markdown": [
       "FALSE"
      ],
      "text/plain": [
       "[1] FALSE"
      ]
     },
     "metadata": {},
     "output_type": "display_data"
    },
    {
     "data": {
      "text/html": [
       "TRUE"
      ],
      "text/latex": [
       "TRUE"
      ],
      "text/markdown": [
       "TRUE"
      ],
      "text/plain": [
       "[1] TRUE"
      ]
     },
     "metadata": {},
     "output_type": "display_data"
    }
   ],
   "source": [
    "5 == 6\n",
    "2 != 4"
   ]
  },
  {
   "cell_type": "code",
   "execution_count": 19,
   "metadata": {
    "collapsed": false
   },
   "outputs": [
    {
     "data": {
      "text/html": [
       "<ol class=list-inline>\n",
       "\t<li>TRUE</li>\n",
       "\t<li>FALSE</li>\n",
       "\t<li>FALSE</li>\n",
       "\t<li>FALSE</li>\n",
       "\t<li>FALSE</li>\n",
       "</ol>\n"
      ],
      "text/latex": [
       "\\begin{enumerate*}\n",
       "\\item TRUE\n",
       "\\item FALSE\n",
       "\\item FALSE\n",
       "\\item FALSE\n",
       "\\item FALSE\n",
       "\\end{enumerate*}\n"
      ],
      "text/markdown": [
       "1. TRUE\n",
       "2. FALSE\n",
       "3. FALSE\n",
       "4. FALSE\n",
       "5. FALSE\n",
       "\n",
       "\n"
      ],
      "text/plain": [
       "[1]  TRUE FALSE FALSE FALSE FALSE"
      ]
     },
     "metadata": {},
     "output_type": "display_data"
    },
    {
     "data": {
      "text/html": [
       "<ol class=list-inline>\n",
       "\t<li>FALSE</li>\n",
       "\t<li>FALSE</li>\n",
       "\t<li>TRUE</li>\n",
       "\t<li>FALSE</li>\n",
       "\t<li>FALSE</li>\n",
       "</ol>\n"
      ],
      "text/latex": [
       "\\begin{enumerate*}\n",
       "\\item FALSE\n",
       "\\item FALSE\n",
       "\\item TRUE\n",
       "\\item FALSE\n",
       "\\item FALSE\n",
       "\\end{enumerate*}\n"
      ],
      "text/markdown": [
       "1. FALSE\n",
       "2. FALSE\n",
       "3. TRUE\n",
       "4. FALSE\n",
       "5. FALSE\n",
       "\n",
       "\n"
      ],
      "text/plain": [
       "[1] FALSE FALSE  TRUE FALSE FALSE"
      ]
     },
     "metadata": {},
     "output_type": "display_data"
    }
   ],
   "source": [
    "v <- c(1,2,3,4,5)\n",
    "v < 2\n",
    "v == 3"
   ]
  },
  {
   "cell_type": "code",
   "execution_count": 20,
   "metadata": {
    "collapsed": false
   },
   "outputs": [
    {
     "data": {
      "text/html": [
       "<ol class=list-inline>\n",
       "\t<li>TRUE</li>\n",
       "\t<li>TRUE</li>\n",
       "\t<li>TRUE</li>\n",
       "\t<li>TRUE</li>\n",
       "\t<li>TRUE</li>\n",
       "</ol>\n"
      ],
      "text/latex": [
       "\\begin{enumerate*}\n",
       "\\item TRUE\n",
       "\\item TRUE\n",
       "\\item TRUE\n",
       "\\item TRUE\n",
       "\\item TRUE\n",
       "\\end{enumerate*}\n"
      ],
      "text/markdown": [
       "1. TRUE\n",
       "2. TRUE\n",
       "3. TRUE\n",
       "4. TRUE\n",
       "5. TRUE\n",
       "\n",
       "\n"
      ],
      "text/plain": [
       "[1] TRUE TRUE TRUE TRUE TRUE"
      ]
     },
     "metadata": {},
     "output_type": "display_data"
    }
   ],
   "source": [
    "v <- c(1,2,3,4,5)\n",
    "v2 = c(10,20,30,40,50)\n",
    "v < v2"
   ]
  },
  {
   "cell_type": "code",
   "execution_count": 21,
   "metadata": {
    "collapsed": false
   },
   "outputs": [
    {
     "data": {
      "text/html": [
       "<ol class=list-inline>\n",
       "\t<li>1</li>\n",
       "\t<li>2</li>\n",
       "\t<li>3</li>\n",
       "\t<li>4</li>\n",
       "\t<li>5</li>\n",
       "\t<li>6</li>\n",
       "\t<li>7</li>\n",
       "\t<li>8</li>\n",
       "\t<li>9</li>\n",
       "\t<li>10</li>\n",
       "</ol>\n"
      ],
      "text/latex": [
       "\\begin{enumerate*}\n",
       "\\item 1\n",
       "\\item 2\n",
       "\\item 3\n",
       "\\item 4\n",
       "\\item 5\n",
       "\\item 6\n",
       "\\item 7\n",
       "\\item 8\n",
       "\\item 9\n",
       "\\item 10\n",
       "\\end{enumerate*}\n"
      ],
      "text/markdown": [
       "1. 1\n",
       "2. 2\n",
       "3. 3\n",
       "4. 4\n",
       "5. 5\n",
       "6. 6\n",
       "7. 7\n",
       "8. 8\n",
       "9. 9\n",
       "10. 10\n",
       "\n",
       "\n"
      ],
      "text/plain": [
       " [1]  1  2  3  4  5  6  7  8  9 10"
      ]
     },
     "metadata": {},
     "output_type": "display_data"
    }
   ],
   "source": [
    "1:10"
   ]
  },
  {
   "cell_type": "code",
   "execution_count": 22,
   "metadata": {
    "collapsed": false
   },
   "outputs": [
    {
     "data": {
      "text/html": [
       "<ol class=list-inline>\n",
       "\t<li>1</li>\n",
       "\t<li>2</li>\n",
       "\t<li>3</li>\n",
       "\t<li>4</li>\n",
       "\t<li>5</li>\n",
       "\t<li>6</li>\n",
       "\t<li>7</li>\n",
       "\t<li>8</li>\n",
       "\t<li>9</li>\n",
       "\t<li>10</li>\n",
       "</ol>\n"
      ],
      "text/latex": [
       "\\begin{enumerate*}\n",
       "\\item 1\n",
       "\\item 2\n",
       "\\item 3\n",
       "\\item 4\n",
       "\\item 5\n",
       "\\item 6\n",
       "\\item 7\n",
       "\\item 8\n",
       "\\item 9\n",
       "\\item 10\n",
       "\\end{enumerate*}\n"
      ],
      "text/markdown": [
       "1. 1\n",
       "2. 2\n",
       "3. 3\n",
       "4. 4\n",
       "5. 5\n",
       "6. 6\n",
       "7. 7\n",
       "8. 8\n",
       "9. 9\n",
       "10. 10\n",
       "\n",
       "\n"
      ],
      "text/plain": [
       " [1]  1  2  3  4  5  6  7  8  9 10"
      ]
     },
     "metadata": {},
     "output_type": "display_data"
    }
   ],
   "source": [
    "v <- 1:10\n",
    "v"
   ]
  },
  {
   "cell_type": "code",
   "execution_count": 23,
   "metadata": {
    "collapsed": false
   },
   "outputs": [
    {
     "data": {
      "text/html": [
       "<table>\n",
       "<tbody>\n",
       "\t<tr><td>1</td></tr>\n",
       "\t<tr><td>2</td></tr>\n",
       "\t<tr><td>3</td></tr>\n",
       "\t<tr><td>4</td></tr>\n",
       "\t<tr><td>5</td></tr>\n",
       "\t<tr><td>6</td></tr>\n",
       "\t<tr><td>7</td></tr>\n",
       "\t<tr><td>8</td></tr>\n",
       "\t<tr><td>9</td></tr>\n",
       "\t<tr><td>10</td></tr>\n",
       "</tbody>\n",
       "</table>\n"
      ],
      "text/latex": [
       "\\begin{tabular}{l}\n",
       "\t 1\\\\\n",
       "\t 2\\\\\n",
       "\t 3\\\\\n",
       "\t 4\\\\\n",
       "\t 5\\\\\n",
       "\t 6\\\\\n",
       "\t 7\\\\\n",
       "\t 8\\\\\n",
       "\t 9\\\\\n",
       "\t 10\\\\\n",
       "\\end{tabular}\n"
      ],
      "text/markdown": [
       "1. 1\n",
       "2. 2\n",
       "3. 3\n",
       "4. 4\n",
       "5. 5\n",
       "6. 6\n",
       "7. 7\n",
       "8. 8\n",
       "9. 9\n",
       "10. 10\n",
       "\n",
       "\n"
      ],
      "text/plain": [
       "      [,1]\n",
       " [1,]    1\n",
       " [2,]    2\n",
       " [3,]    3\n",
       " [4,]    4\n",
       " [5,]    5\n",
       " [6,]    6\n",
       " [7,]    7\n",
       " [8,]    8\n",
       " [9,]    9\n",
       "[10,]   10"
      ]
     },
     "metadata": {},
     "output_type": "display_data"
    }
   ],
   "source": [
    "matrix(v)"
   ]
  },
  {
   "cell_type": "code",
   "execution_count": 24,
   "metadata": {
    "collapsed": false
   },
   "outputs": [
    {
     "data": {
      "text/html": [
       "<table>\n",
       "<tbody>\n",
       "\t<tr><td>1</td><td>3</td><td>5</td><td>7</td><td>9</td></tr>\n",
       "\t<tr><td> 2</td><td> 4</td><td> 6</td><td> 8</td><td>10</td></tr>\n",
       "</tbody>\n",
       "</table>\n"
      ],
      "text/latex": [
       "\\begin{tabular}{lllll}\n",
       "\t 1 & 3 & 5 & 7 & 9\\\\\n",
       "\t  2 &  4 &  6 &  8 & 10\\\\\n",
       "\\end{tabular}\n"
      ],
      "text/markdown": [
       "1. 1\n",
       "2. 2\n",
       "3. 3\n",
       "4. 4\n",
       "5. 5\n",
       "6. 6\n",
       "7. 7\n",
       "8. 8\n",
       "9. 9\n",
       "10. 10\n",
       "\n",
       "\n"
      ],
      "text/plain": [
       "     [,1] [,2] [,3] [,4] [,5]\n",
       "[1,]    1    3    5    7    9\n",
       "[2,]    2    4    6    8   10"
      ]
     },
     "metadata": {},
     "output_type": "display_data"
    },
    {
     "data": {
      "text/html": [
       "<table>\n",
       "<tbody>\n",
       "\t<tr><td>1</td><td>6</td></tr>\n",
       "\t<tr><td>2</td><td>7</td></tr>\n",
       "\t<tr><td>3</td><td>8</td></tr>\n",
       "\t<tr><td>4</td><td>9</td></tr>\n",
       "\t<tr><td> 5</td><td>10</td></tr>\n",
       "</tbody>\n",
       "</table>\n"
      ],
      "text/latex": [
       "\\begin{tabular}{ll}\n",
       "\t 1 & 6\\\\\n",
       "\t 2 & 7\\\\\n",
       "\t 3 & 8\\\\\n",
       "\t 4 & 9\\\\\n",
       "\t  5 & 10\\\\\n",
       "\\end{tabular}\n"
      ],
      "text/markdown": [
       "1. 1\n",
       "2. 2\n",
       "3. 3\n",
       "4. 4\n",
       "5. 5\n",
       "6. 6\n",
       "7. 7\n",
       "8. 8\n",
       "9. 9\n",
       "10. 10\n",
       "\n",
       "\n"
      ],
      "text/plain": [
       "     [,1] [,2]\n",
       "[1,]    1    6\n",
       "[2,]    2    7\n",
       "[3,]    3    8\n",
       "[4,]    4    9\n",
       "[5,]    5   10"
      ]
     },
     "metadata": {},
     "output_type": "display_data"
    }
   ],
   "source": [
    "matrix(v,nrow=2)\n",
    "matrix(v,nrow=5)"
   ]
  },
  {
   "cell_type": "code",
   "execution_count": 25,
   "metadata": {
    "collapsed": false
   },
   "outputs": [
    {
     "data": {
      "text/html": [
       "<table>\n",
       "<tbody>\n",
       "\t<tr><td>1</td><td>5</td><td>9</td></tr>\n",
       "\t<tr><td> 2</td><td> 6</td><td>10</td></tr>\n",
       "\t<tr><td> 3</td><td> 7</td><td>11</td></tr>\n",
       "\t<tr><td> 4</td><td> 8</td><td>12</td></tr>\n",
       "</tbody>\n",
       "</table>\n"
      ],
      "text/latex": [
       "\\begin{tabular}{lll}\n",
       "\t 1 & 5 & 9\\\\\n",
       "\t  2 &  6 & 10\\\\\n",
       "\t  3 &  7 & 11\\\\\n",
       "\t  4 &  8 & 12\\\\\n",
       "\\end{tabular}\n"
      ],
      "text/markdown": [
       "1. 1\n",
       "2. 2\n",
       "3. 3\n",
       "4. 4\n",
       "5. 5\n",
       "6. 6\n",
       "7. 7\n",
       "8. 8\n",
       "9. 9\n",
       "10. 10\n",
       "11. 11\n",
       "12. 12\n",
       "\n",
       "\n"
      ],
      "text/plain": [
       "     [,1] [,2] [,3]\n",
       "[1,]    1    5    9\n",
       "[2,]    2    6   10\n",
       "[3,]    3    7   11\n",
       "[4,]    4    8   12"
      ]
     },
     "metadata": {},
     "output_type": "display_data"
    }
   ],
   "source": [
    "matrix(1:12,byrow = FALSE,nrow=4)"
   ]
  },
  {
   "cell_type": "code",
   "execution_count": 26,
   "metadata": {
    "collapsed": false
   },
   "outputs": [
    {
     "data": {
      "text/html": [
       "<table>\n",
       "<tbody>\n",
       "\t<tr><td>1</td><td>2</td><td>3</td></tr>\n",
       "\t<tr><td>4</td><td>5</td><td>6</td></tr>\n",
       "\t<tr><td>7</td><td>8</td><td>9</td></tr>\n",
       "\t<tr><td>10</td><td>11</td><td>12</td></tr>\n",
       "</tbody>\n",
       "</table>\n"
      ],
      "text/latex": [
       "\\begin{tabular}{lll}\n",
       "\t 1 & 2 & 3\\\\\n",
       "\t 4 & 5 & 6\\\\\n",
       "\t 7 & 8 & 9\\\\\n",
       "\t 10 & 11 & 12\\\\\n",
       "\\end{tabular}\n"
      ],
      "text/markdown": [
       "1. 1\n",
       "2. 4\n",
       "3. 7\n",
       "4. 10\n",
       "5. 2\n",
       "6. 5\n",
       "7. 8\n",
       "8. 11\n",
       "9. 3\n",
       "10. 6\n",
       "11. 9\n",
       "12. 12\n",
       "\n",
       "\n"
      ],
      "text/plain": [
       "     [,1] [,2] [,3]\n",
       "[1,]    1    2    3\n",
       "[2,]    4    5    6\n",
       "[3,]    7    8    9\n",
       "[4,]   10   11   12"
      ]
     },
     "metadata": {},
     "output_type": "display_data"
    }
   ],
   "source": [
    "matrix(1:12,byrow = T,nrow=4)"
   ]
  },
  {
   "cell_type": "code",
   "execution_count": 27,
   "metadata": {
    "collapsed": false
   },
   "outputs": [
    {
     "data": {
      "text/html": [
       "<ol class=list-inline>\n",
       "\t<li>450</li>\n",
       "\t<li>451</li>\n",
       "\t<li>452</li>\n",
       "\t<li>445</li>\n",
       "\t<li>468</li>\n",
       "\t<li>230</li>\n",
       "\t<li>231</li>\n",
       "\t<li>232</li>\n",
       "\t<li>236</li>\n",
       "\t<li>228</li>\n",
       "</ol>\n"
      ],
      "text/latex": [
       "\\begin{enumerate*}\n",
       "\\item 450\n",
       "\\item 451\n",
       "\\item 452\n",
       "\\item 445\n",
       "\\item 468\n",
       "\\item 230\n",
       "\\item 231\n",
       "\\item 232\n",
       "\\item 236\n",
       "\\item 228\n",
       "\\end{enumerate*}\n"
      ],
      "text/markdown": [
       "1. 450\n",
       "2. 451\n",
       "3. 452\n",
       "4. 445\n",
       "5. 468\n",
       "6. 230\n",
       "7. 231\n",
       "8. 232\n",
       "9. 236\n",
       "10. 228\n",
       "\n",
       "\n"
      ],
      "text/plain": [
       " [1] 450 451 452 445 468 230 231 232 236 228"
      ]
     },
     "metadata": {},
     "output_type": "display_data"
    }
   ],
   "source": [
    "goog <- c(450,451,452,445,468)\n",
    "msft <- c(230,231,232,236,228)\n",
    "stocks <- c(goog,msft)\n",
    "stocks"
   ]
  },
  {
   "cell_type": "code",
   "execution_count": 28,
   "metadata": {
    "collapsed": false
   },
   "outputs": [
    {
     "data": {
      "text/html": [
       "<table>\n",
       "<tbody>\n",
       "\t<tr><td>450</td><td>451</td></tr>\n",
       "\t<tr><td>452</td><td>445</td></tr>\n",
       "\t<tr><td>468</td><td>230</td></tr>\n",
       "\t<tr><td>231</td><td>232</td></tr>\n",
       "\t<tr><td>236</td><td>228</td></tr>\n",
       "</tbody>\n",
       "</table>\n"
      ],
      "text/latex": [
       "\\begin{tabular}{ll}\n",
       "\t 450 & 451\\\\\n",
       "\t 452 & 445\\\\\n",
       "\t 468 & 230\\\\\n",
       "\t 231 & 232\\\\\n",
       "\t 236 & 228\\\\\n",
       "\\end{tabular}\n"
      ],
      "text/markdown": [
       "1. 450\n",
       "2. 452\n",
       "3. 468\n",
       "4. 231\n",
       "5. 236\n",
       "6. 451\n",
       "7. 445\n",
       "8. 230\n",
       "9. 232\n",
       "10. 228\n",
       "\n",
       "\n"
      ],
      "text/plain": [
       "     [,1] [,2]\n",
       "[1,]  450  451\n",
       "[2,]  452  445\n",
       "[3,]  468  230\n",
       "[4,]  231  232\n",
       "[5,]  236  228"
      ]
     },
     "metadata": {},
     "output_type": "display_data"
    },
    {
     "data": {
      "text/html": [
       "<table>\n",
       "<tbody>\n",
       "\t<tr><td>450</td><td>451</td><td>452</td><td>445</td><td>468</td></tr>\n",
       "\t<tr><td>230</td><td>231</td><td>232</td><td>236</td><td>228</td></tr>\n",
       "</tbody>\n",
       "</table>\n"
      ],
      "text/latex": [
       "\\begin{tabular}{lllll}\n",
       "\t 450 & 451 & 452 & 445 & 468\\\\\n",
       "\t 230 & 231 & 232 & 236 & 228\\\\\n",
       "\\end{tabular}\n"
      ],
      "text/markdown": [
       "1. 450\n",
       "2. 230\n",
       "3. 451\n",
       "4. 231\n",
       "5. 452\n",
       "6. 232\n",
       "7. 445\n",
       "8. 236\n",
       "9. 468\n",
       "10. 228\n",
       "\n",
       "\n"
      ],
      "text/plain": [
       "     [,1] [,2] [,3] [,4] [,5]\n",
       "[1,]  450  451  452  445  468\n",
       "[2,]  230  231  232  236  228"
      ]
     },
     "metadata": {},
     "output_type": "display_data"
    }
   ],
   "source": [
    "stock.matrix <- matrix(stocks,byrow=TRUE,nrow=5)\n",
    "stock.matrix\n",
    "stock.matrix <- matrix(stocks,byrow=TRUE,nrow=2)\n",
    "stock.matrix"
   ]
  },
  {
   "cell_type": "code",
   "execution_count": 29,
   "metadata": {
    "collapsed": false
   },
   "outputs": [
    {
     "data": {
      "text/html": [
       "1"
      ],
      "text/latex": [
       "1"
      ],
      "text/markdown": [
       "1"
      ],
      "text/plain": [
       "[1] 1"
      ]
     },
     "metadata": {},
     "output_type": "display_data"
    },
    {
     "data": {
      "text/html": [
       "\"This is 1\""
      ],
      "text/latex": [
       "\"This is 1\""
      ],
      "text/markdown": [
       "\"This is 1\""
      ],
      "text/plain": [
       "[1] \"This is 1\""
      ]
     },
     "metadata": {},
     "output_type": "display_data"
    },
    {
     "data": {
      "text/html": [
       "<table>\n",
       "<thead><tr><th></th><th scope=col>Mon</th><th scope=col>Tue</th><th scope=col>Wed</th><th scope=col>Thu</th><th scope=col>Fri</th></tr></thead>\n",
       "<tbody>\n",
       "\t<tr><th scope=row>GOOG</th><td>450</td><td>451</td><td>452</td><td>445</td><td>468</td></tr>\n",
       "\t<tr><th scope=row>MSFT</th><td>230</td><td>231</td><td>232</td><td>236</td><td>228</td></tr>\n",
       "</tbody>\n",
       "</table>\n"
      ],
      "text/latex": [
       "\\begin{tabular}{r|lllll}\n",
       "  & Mon & Tue & Wed & Thu & Fri\\\\\n",
       "\\hline\n",
       "\tGOOG & 450 & 451 & 452 & 445 & 468\\\\\n",
       "\tMSFT & 230 & 231 & 232 & 236 & 228\\\\\n",
       "\\end{tabular}\n"
      ],
      "text/markdown": [
       "1. 450\n",
       "2. 230\n",
       "3. 451\n",
       "4. 231\n",
       "5. 452\n",
       "6. 232\n",
       "7. 445\n",
       "8. 236\n",
       "9. 468\n",
       "10. 228\n",
       "\n",
       "\n"
      ],
      "text/plain": [
       "     Mon Tue Wed Thu Fri\n",
       "GOOG 450 451 452 445 468\n",
       "MSFT 230 231 232 236 228"
      ]
     },
     "metadata": {},
     "output_type": "display_data"
    },
    {
     "data": {
      "text/html": [
       "2"
      ],
      "text/latex": [
       "2"
      ],
      "text/markdown": [
       "2"
      ],
      "text/plain": [
       "[1] 2"
      ]
     },
     "metadata": {},
     "output_type": "display_data"
    },
    {
     "data": {
      "text/html": [
       "<dl class=dl-horizontal>\n",
       "\t<dt>Mon</dt>\n",
       "\t\t<dd>680</dd>\n",
       "\t<dt>Tue</dt>\n",
       "\t\t<dd>682</dd>\n",
       "\t<dt>Wed</dt>\n",
       "\t\t<dd>684</dd>\n",
       "\t<dt>Thu</dt>\n",
       "\t\t<dd>681</dd>\n",
       "\t<dt>Fri</dt>\n",
       "\t\t<dd>696</dd>\n",
       "</dl>\n"
      ],
      "text/latex": [
       "\\begin{description*}\n",
       "\\item[Mon] 680\n",
       "\\item[Tue] 682\n",
       "\\item[Wed] 684\n",
       "\\item[Thu] 681\n",
       "\\item[Fri] 696\n",
       "\\end{description*}\n"
      ],
      "text/markdown": [
       "Mon\n",
       ":   680Tue\n",
       ":   682Wed\n",
       ":   684Thu\n",
       ":   681Fri\n",
       ":   696\n",
       "\n"
      ],
      "text/plain": [
       "Mon Tue Wed Thu Fri \n",
       "680 682 684 681 696 "
      ]
     },
     "metadata": {},
     "output_type": "display_data"
    },
    {
     "data": {
      "text/html": [
       "3"
      ],
      "text/latex": [
       "3"
      ],
      "text/markdown": [
       "3"
      ],
      "text/plain": [
       "[1] 3"
      ]
     },
     "metadata": {},
     "output_type": "display_data"
    },
    {
     "data": {
      "text/html": [
       "<dl class=dl-horizontal>\n",
       "\t<dt>GOOG</dt>\n",
       "\t\t<dd>2266</dd>\n",
       "\t<dt>MSFT</dt>\n",
       "\t\t<dd>1157</dd>\n",
       "</dl>\n"
      ],
      "text/latex": [
       "\\begin{description*}\n",
       "\\item[GOOG] 2266\n",
       "\\item[MSFT] 1157\n",
       "\\end{description*}\n"
      ],
      "text/markdown": [
       "GOOG\n",
       ":   2266MSFT\n",
       ":   1157\n",
       "\n"
      ],
      "text/plain": [
       "GOOG MSFT \n",
       "2266 1157 "
      ]
     },
     "metadata": {},
     "output_type": "display_data"
    },
    {
     "data": {
      "text/html": [
       "4"
      ],
      "text/latex": [
       "4"
      ],
      "text/markdown": [
       "4"
      ],
      "text/plain": [
       "[1] 4"
      ]
     },
     "metadata": {},
     "output_type": "display_data"
    },
    {
     "data": {
      "text/html": [
       "<dl class=dl-horizontal>\n",
       "\t<dt>GOOG</dt>\n",
       "\t\t<dd>453.2</dd>\n",
       "\t<dt>MSFT</dt>\n",
       "\t\t<dd>231.4</dd>\n",
       "</dl>\n"
      ],
      "text/latex": [
       "\\begin{description*}\n",
       "\\item[GOOG] 453.2\n",
       "\\item[MSFT] 231.4\n",
       "\\end{description*}\n"
      ],
      "text/markdown": [
       "GOOG\n",
       ":   453.2MSFT\n",
       ":   231.4\n",
       "\n"
      ],
      "text/plain": [
       " GOOG  MSFT \n",
       "453.2 231.4 "
      ]
     },
     "metadata": {},
     "output_type": "display_data"
    },
    {
     "data": {
      "text/html": [
       "5"
      ],
      "text/latex": [
       "5"
      ],
      "text/markdown": [
       "5"
      ],
      "text/plain": [
       "[1] 5"
      ]
     },
     "metadata": {},
     "output_type": "display_data"
    },
    {
     "data": {
      "text/html": [
       "<ol class=list-inline>\n",
       "\t<li>111</li>\n",
       "\t<li>112</li>\n",
       "\t<li>113</li>\n",
       "\t<li>120</li>\n",
       "\t<li>145</li>\n",
       "</ol>\n"
      ],
      "text/latex": [
       "\\begin{enumerate*}\n",
       "\\item 111\n",
       "\\item 112\n",
       "\\item 113\n",
       "\\item 120\n",
       "\\item 145\n",
       "\\end{enumerate*}\n"
      ],
      "text/markdown": [
       "1. 111\n",
       "2. 112\n",
       "3. 113\n",
       "4. 120\n",
       "5. 145\n",
       "\n",
       "\n"
      ],
      "text/plain": [
       "[1] 111 112 113 120 145"
      ]
     },
     "metadata": {},
     "output_type": "display_data"
    },
    {
     "data": {
      "text/html": [
       "6"
      ],
      "text/latex": [
       "6"
      ],
      "text/markdown": [
       "6"
      ],
      "text/plain": [
       "[1] 6"
      ]
     },
     "metadata": {},
     "output_type": "display_data"
    },
    {
     "data": {
      "text/html": [
       "<table>\n",
       "<thead><tr><th></th><th scope=col>Mon</th><th scope=col>Tue</th><th scope=col>Wed</th><th scope=col>Thu</th><th scope=col>Fri</th></tr></thead>\n",
       "<tbody>\n",
       "\t<tr><th scope=row>GOOG</th><td>450</td><td>451</td><td>452</td><td>445</td><td>468</td></tr>\n",
       "\t<tr><th scope=row>MSFT</th><td>230</td><td>231</td><td>232</td><td>236</td><td>228</td></tr>\n",
       "\t<tr><th scope=row>FB</th><td>111</td><td>112</td><td>113</td><td>120</td><td>145</td></tr>\n",
       "</tbody>\n",
       "</table>\n"
      ],
      "text/latex": [
       "\\begin{tabular}{r|lllll}\n",
       "  & Mon & Tue & Wed & Thu & Fri\\\\\n",
       "\\hline\n",
       "\tGOOG & 450 & 451 & 452 & 445 & 468\\\\\n",
       "\tMSFT & 230 & 231 & 232 & 236 & 228\\\\\n",
       "\tFB & 111 & 112 & 113 & 120 & 145\\\\\n",
       "\\end{tabular}\n"
      ],
      "text/markdown": [
       "1. 450\n",
       "2. 230\n",
       "3. 111\n",
       "4. 451\n",
       "5. 231\n",
       "6. 112\n",
       "7. 452\n",
       "8. 232\n",
       "9. 113\n",
       "10. 445\n",
       "11. 236\n",
       "12. 120\n",
       "13. 468\n",
       "14. 228\n",
       "15. 145\n",
       "\n",
       "\n"
      ],
      "text/plain": [
       "     Mon Tue Wed Thu Fri\n",
       "GOOG 450 451 452 445 468\n",
       "MSFT 230 231 232 236 228\n",
       "FB   111 112 113 120 145"
      ]
     },
     "metadata": {},
     "output_type": "display_data"
    },
    {
     "data": {
      "text/html": [
       "7"
      ],
      "text/latex": [
       "7"
      ],
      "text/markdown": [
       "7"
      ],
      "text/plain": [
       "[1] 7"
      ]
     },
     "metadata": {},
     "output_type": "display_data"
    },
    {
     "data": {
      "text/html": [
       "<dl class=dl-horizontal>\n",
       "\t<dt>GOOG</dt>\n",
       "\t\t<dd>453.2</dd>\n",
       "\t<dt>MSFT</dt>\n",
       "\t\t<dd>231.4</dd>\n",
       "\t<dt>FB</dt>\n",
       "\t\t<dd>120.2</dd>\n",
       "</dl>\n"
      ],
      "text/latex": [
       "\\begin{description*}\n",
       "\\item[GOOG] 453.2\n",
       "\\item[MSFT] 231.4\n",
       "\\item[FB] 120.2\n",
       "\\end{description*}\n"
      ],
      "text/markdown": [
       "GOOG\n",
       ":   453.2MSFT\n",
       ":   231.4FB\n",
       ":   120.2\n",
       "\n"
      ],
      "text/plain": [
       " GOOG  MSFT    FB \n",
       "453.2 231.4 120.2 "
      ]
     },
     "metadata": {},
     "output_type": "display_data"
    }
   ],
   "source": [
    "days <- c('Mon','Tue','Wed','Thu','Fri')\n",
    "st.names <- c('GOOG','MSFT')\n",
    "colnames(stock.matrix) <- days\n",
    "rownames(stock.matrix) <- st.names\n",
    "1 #this is a comment\n",
    "\"This is 1\"\n",
    "stock.matrix\n",
    "2\n",
    "colSums(stock.matrix)\n",
    "3\n",
    "rowSums(stock.matrix)\n",
    "4\n",
    "rowMeans(stock.matrix)\n",
    "5\n",
    "FB <- c(111,112,113,120,145)\n",
    "FB\n",
    "6\n",
    "tech.stocks <- rbind(stock.matrix,FB)\n",
    "tech.stocks\n",
    "7 \n",
    "avg <- rowMeans(tech.stocks)\n",
    "avg\n"
   ]
  },
  {
   "cell_type": "code",
   "execution_count": 30,
   "metadata": {
    "collapsed": false
   },
   "outputs": [
    {
     "data": {
      "text/html": [
       "<table>\n",
       "<tbody>\n",
       "\t<tr><td> 1</td><td> 2</td><td> 3</td><td> 4</td><td> 5</td><td> 6</td><td> 7</td><td> 8</td><td> 9</td><td>10</td></tr>\n",
       "\t<tr><td>11</td><td>12</td><td>13</td><td>14</td><td>15</td><td>16</td><td>17</td><td>18</td><td>19</td><td>20</td></tr>\n",
       "\t<tr><td>21</td><td>22</td><td>23</td><td>24</td><td>25</td><td>26</td><td>27</td><td>28</td><td>29</td><td>30</td></tr>\n",
       "\t<tr><td>31</td><td>32</td><td>33</td><td>34</td><td>35</td><td>36</td><td>37</td><td>38</td><td>39</td><td>40</td></tr>\n",
       "\t<tr><td>41</td><td>42</td><td>43</td><td>44</td><td>45</td><td>46</td><td>47</td><td>48</td><td>49</td><td>50</td></tr>\n",
       "</tbody>\n",
       "</table>\n"
      ],
      "text/latex": [
       "\\begin{tabular}{llllllllll}\n",
       "\t  1 &  2 &  3 &  4 &  5 &  6 &  7 &  8 &  9 & 10\\\\\n",
       "\t 11 & 12 & 13 & 14 & 15 & 16 & 17 & 18 & 19 & 20\\\\\n",
       "\t 21 & 22 & 23 & 24 & 25 & 26 & 27 & 28 & 29 & 30\\\\\n",
       "\t 31 & 32 & 33 & 34 & 35 & 36 & 37 & 38 & 39 & 40\\\\\n",
       "\t 41 & 42 & 43 & 44 & 45 & 46 & 47 & 48 & 49 & 50\\\\\n",
       "\\end{tabular}\n"
      ],
      "text/markdown": [
       "1. 1\n",
       "2. 11\n",
       "3. 21\n",
       "4. 31\n",
       "5. 41\n",
       "6. 2\n",
       "7. 12\n",
       "8. 22\n",
       "9. 32\n",
       "10. 42\n",
       "11. 3\n",
       "12. 13\n",
       "13. 23\n",
       "14. 33\n",
       "15. 43\n",
       "16. 4\n",
       "17. 14\n",
       "18. 24\n",
       "19. 34\n",
       "20. 44\n",
       "21. 5\n",
       "22. 15\n",
       "23. 25\n",
       "24. 35\n",
       "25. 45\n",
       "26. 6\n",
       "27. 16\n",
       "28. 26\n",
       "29. 36\n",
       "30. 46\n",
       "31. 7\n",
       "32. 17\n",
       "33. 27\n",
       "34. 37\n",
       "35. 47\n",
       "36. 8\n",
       "37. 18\n",
       "38. 28\n",
       "39. 38\n",
       "40. 48\n",
       "41. 9\n",
       "42. 19\n",
       "43. 29\n",
       "44. 39\n",
       "45. 49\n",
       "46. 10\n",
       "47. 20\n",
       "48. 30\n",
       "49. 40\n",
       "50. 50\n",
       "\n",
       "\n"
      ],
      "text/plain": [
       "     [,1] [,2] [,3] [,4] [,5] [,6] [,7] [,8] [,9] [,10]\n",
       "[1,]    1    2    3    4    5    6    7    8    9    10\n",
       "[2,]   11   12   13   14   15   16   17   18   19    20\n",
       "[3,]   21   22   23   24   25   26   27   28   29    30\n",
       "[4,]   31   32   33   34   35   36   37   38   39    40\n",
       "[5,]   41   42   43   44   45   46   47   48   49    50"
      ]
     },
     "metadata": {},
     "output_type": "display_data"
    }
   ],
   "source": [
    "mat <- matrix(1:50,byrow=TRUE,nrow=5)\n",
    "mat"
   ]
  },
  {
   "cell_type": "code",
   "execution_count": 31,
   "metadata": {
    "collapsed": false
   },
   "outputs": [
    {
     "data": {
      "text/html": [
       "<table>\n",
       "<tbody>\n",
       "\t<tr><td> 2</td><td> 4</td><td> 6</td><td> 8</td><td>10</td><td>12</td><td>14</td><td>16</td><td>18</td><td>20</td></tr>\n",
       "\t<tr><td>22</td><td>24</td><td>26</td><td>28</td><td>30</td><td>32</td><td>34</td><td>36</td><td>38</td><td>40</td></tr>\n",
       "\t<tr><td>42</td><td>44</td><td>46</td><td>48</td><td>50</td><td>52</td><td>54</td><td>56</td><td>58</td><td>60</td></tr>\n",
       "\t<tr><td>62</td><td>64</td><td>66</td><td>68</td><td>70</td><td>72</td><td>74</td><td>76</td><td>78</td><td>80</td></tr>\n",
       "\t<tr><td> 82</td><td> 84</td><td> 86</td><td> 88</td><td> 90</td><td> 92</td><td> 94</td><td> 96</td><td> 98</td><td>100</td></tr>\n",
       "</tbody>\n",
       "</table>\n"
      ],
      "text/latex": [
       "\\begin{tabular}{llllllllll}\n",
       "\t  2 &  4 &  6 &  8 & 10 & 12 & 14 & 16 & 18 & 20\\\\\n",
       "\t 22 & 24 & 26 & 28 & 30 & 32 & 34 & 36 & 38 & 40\\\\\n",
       "\t 42 & 44 & 46 & 48 & 50 & 52 & 54 & 56 & 58 & 60\\\\\n",
       "\t 62 & 64 & 66 & 68 & 70 & 72 & 74 & 76 & 78 & 80\\\\\n",
       "\t  82 &  84 &  86 &  88 &  90 &  92 &  94 &  96 &  98 & 100\\\\\n",
       "\\end{tabular}\n"
      ],
      "text/markdown": [
       "1. 2\n",
       "2. 22\n",
       "3. 42\n",
       "4. 62\n",
       "5. 82\n",
       "6. 4\n",
       "7. 24\n",
       "8. 44\n",
       "9. 64\n",
       "10. 84\n",
       "11. 6\n",
       "12. 26\n",
       "13. 46\n",
       "14. 66\n",
       "15. 86\n",
       "16. 8\n",
       "17. 28\n",
       "18. 48\n",
       "19. 68\n",
       "20. 88\n",
       "21. 10\n",
       "22. 30\n",
       "23. 50\n",
       "24. 70\n",
       "25. 90\n",
       "26. 12\n",
       "27. 32\n",
       "28. 52\n",
       "29. 72\n",
       "30. 92\n",
       "31. 14\n",
       "32. 34\n",
       "33. 54\n",
       "34. 74\n",
       "35. 94\n",
       "36. 16\n",
       "37. 36\n",
       "38. 56\n",
       "39. 76\n",
       "40. 96\n",
       "41. 18\n",
       "42. 38\n",
       "43. 58\n",
       "44. 78\n",
       "45. 98\n",
       "46. 20\n",
       "47. 40\n",
       "48. 60\n",
       "49. 80\n",
       "50. 100\n",
       "\n",
       "\n"
      ],
      "text/plain": [
       "     [,1] [,2] [,3] [,4] [,5] [,6] [,7] [,8] [,9] [,10]\n",
       "[1,]    2    4    6    8   10   12   14   16   18    20\n",
       "[2,]   22   24   26   28   30   32   34   36   38    40\n",
       "[3,]   42   44   46   48   50   52   54   56   58    60\n",
       "[4,]   62   64   66   68   70   72   74   76   78    80\n",
       "[5,]   82   84   86   88   90   92   94   96   98   100"
      ]
     },
     "metadata": {},
     "output_type": "display_data"
    }
   ],
   "source": [
    "2*mat"
   ]
  },
  {
   "cell_type": "code",
   "execution_count": 32,
   "metadata": {
    "collapsed": false
   },
   "outputs": [
    {
     "data": {
      "text/html": [
       "<table>\n",
       "<tbody>\n",
       "\t<tr><td>1.0000000</td><td>0.5000000</td><td>0.3333333</td><td>0.2500000</td><td>0.2000000</td><td>0.1666667</td><td>0.1428571</td><td>0.1250000</td><td>0.1111111</td><td>0.1000000</td></tr>\n",
       "\t<tr><td>0.09090909</td><td>0.08333333</td><td>0.07692308</td><td>0.07142857</td><td>0.06666667</td><td>0.06250000</td><td>0.05882353</td><td>0.05555556</td><td>0.05263158</td><td>0.05000000</td></tr>\n",
       "\t<tr><td>0.04761905</td><td>0.04545455</td><td>0.04347826</td><td>0.04166667</td><td>0.04000000</td><td>0.03846154</td><td>0.03703704</td><td>0.03571429</td><td>0.03448276</td><td>0.03333333</td></tr>\n",
       "\t<tr><td>0.03225806</td><td>0.03125000</td><td>0.03030303</td><td>0.02941176</td><td>0.02857143</td><td>0.02777778</td><td>0.02702703</td><td>0.02631579</td><td>0.02564103</td><td>0.02500000</td></tr>\n",
       "\t<tr><td>0.02439024</td><td>0.02380952</td><td>0.02325581</td><td>0.02272727</td><td>0.02222222</td><td>0.02173913</td><td>0.02127660</td><td>0.02083333</td><td>0.02040816</td><td>0.02000000</td></tr>\n",
       "</tbody>\n",
       "</table>\n"
      ],
      "text/latex": [
       "\\begin{tabular}{llllllllll}\n",
       "\t 1.0000000 & 0.5000000 & 0.3333333 & 0.2500000 & 0.2000000 & 0.1666667 & 0.1428571 & 0.1250000 & 0.1111111 & 0.1000000\\\\\n",
       "\t 0.09090909 & 0.08333333 & 0.07692308 & 0.07142857 & 0.06666667 & 0.06250000 & 0.05882353 & 0.05555556 & 0.05263158 & 0.05000000\\\\\n",
       "\t 0.04761905 & 0.04545455 & 0.04347826 & 0.04166667 & 0.04000000 & 0.03846154 & 0.03703704 & 0.03571429 & 0.03448276 & 0.03333333\\\\\n",
       "\t 0.03225806 & 0.03125000 & 0.03030303 & 0.02941176 & 0.02857143 & 0.02777778 & 0.02702703 & 0.02631579 & 0.02564103 & 0.02500000\\\\\n",
       "\t 0.02439024 & 0.02380952 & 0.02325581 & 0.02272727 & 0.02222222 & 0.02173913 & 0.02127660 & 0.02083333 & 0.02040816 & 0.02000000\\\\\n",
       "\\end{tabular}\n"
      ],
      "text/markdown": [
       "1. 1\n",
       "2. 0.0909090909090909\n",
       "3. 0.0476190476190476\n",
       "4. 0.032258064516129\n",
       "5. 0.024390243902439\n",
       "6. 0.5\n",
       "7. 0.0833333333333333\n",
       "8. 0.0454545454545455\n",
       "9. 0.03125\n",
       "10. 0.0238095238095238\n",
       "11. 0.333333333333333\n",
       "12. 0.0769230769230769\n",
       "13. 0.0434782608695652\n",
       "14. 0.0303030303030303\n",
       "15. 0.0232558139534884\n",
       "16. 0.25\n",
       "17. 0.0714285714285714\n",
       "18. 0.0416666666666667\n",
       "19. 0.0294117647058824\n",
       "20. 0.0227272727272727\n",
       "21. 0.2\n",
       "22. 0.0666666666666667\n",
       "23. 0.04\n",
       "24. 0.0285714285714286\n",
       "25. 0.0222222222222222\n",
       "26. 0.166666666666667\n",
       "27. 0.0625\n",
       "28. 0.0384615384615385\n",
       "29. 0.0277777777777778\n",
       "30. 0.0217391304347826\n",
       "31. 0.142857142857143\n",
       "32. 0.0588235294117647\n",
       "33. 0.037037037037037\n",
       "34. 0.027027027027027\n",
       "35. 0.0212765957446809\n",
       "36. 0.125\n",
       "37. 0.0555555555555556\n",
       "38. 0.0357142857142857\n",
       "39. 0.0263157894736842\n",
       "40. 0.0208333333333333\n",
       "41. 0.111111111111111\n",
       "42. 0.0526315789473684\n",
       "43. 0.0344827586206897\n",
       "44. 0.0256410256410256\n",
       "45. 0.0204081632653061\n",
       "46. 0.1\n",
       "47. 0.05\n",
       "48. 0.0333333333333333\n",
       "49. 0.025\n",
       "50. 0.02\n",
       "\n",
       "\n"
      ],
      "text/plain": [
       "           [,1]       [,2]       [,3]       [,4]       [,5]       [,6]\n",
       "[1,] 1.00000000 0.50000000 0.33333333 0.25000000 0.20000000 0.16666667\n",
       "[2,] 0.09090909 0.08333333 0.07692308 0.07142857 0.06666667 0.06250000\n",
       "[3,] 0.04761905 0.04545455 0.04347826 0.04166667 0.04000000 0.03846154\n",
       "[4,] 0.03225806 0.03125000 0.03030303 0.02941176 0.02857143 0.02777778\n",
       "[5,] 0.02439024 0.02380952 0.02325581 0.02272727 0.02222222 0.02173913\n",
       "           [,7]       [,8]       [,9]      [,10]\n",
       "[1,] 0.14285714 0.12500000 0.11111111 0.10000000\n",
       "[2,] 0.05882353 0.05555556 0.05263158 0.05000000\n",
       "[3,] 0.03703704 0.03571429 0.03448276 0.03333333\n",
       "[4,] 0.02702703 0.02631579 0.02564103 0.02500000\n",
       "[5,] 0.02127660 0.02083333 0.02040816 0.02000000"
      ]
     },
     "metadata": {},
     "output_type": "display_data"
    }
   ],
   "source": [
    "1/mat"
   ]
  },
  {
   "cell_type": "code",
   "execution_count": 33,
   "metadata": {
    "collapsed": false
   },
   "outputs": [
    {
     "data": {
      "text/html": [
       "<table>\n",
       "<tbody>\n",
       "\t<tr><td>0.5</td><td>1.0</td><td>1.5</td><td>2.0</td><td>2.5</td><td>3.0</td><td>3.5</td><td>4.0</td><td>4.5</td><td>5.0</td></tr>\n",
       "\t<tr><td> 5.5</td><td> 6.0</td><td> 6.5</td><td> 7.0</td><td> 7.5</td><td> 8.0</td><td> 8.5</td><td> 9.0</td><td> 9.5</td><td>10.0</td></tr>\n",
       "\t<tr><td>10.5</td><td>11.0</td><td>11.5</td><td>12.0</td><td>12.5</td><td>13.0</td><td>13.5</td><td>14.0</td><td>14.5</td><td>15.0</td></tr>\n",
       "\t<tr><td>15.5</td><td>16.0</td><td>16.5</td><td>17.0</td><td>17.5</td><td>18.0</td><td>18.5</td><td>19.0</td><td>19.5</td><td>20.0</td></tr>\n",
       "\t<tr><td>20.5</td><td>21.0</td><td>21.5</td><td>22.0</td><td>22.5</td><td>23.0</td><td>23.5</td><td>24.0</td><td>24.5</td><td>25.0</td></tr>\n",
       "</tbody>\n",
       "</table>\n"
      ],
      "text/latex": [
       "\\begin{tabular}{llllllllll}\n",
       "\t 0.5 & 1.0 & 1.5 & 2.0 & 2.5 & 3.0 & 3.5 & 4.0 & 4.5 & 5.0\\\\\n",
       "\t  5.5 &  6.0 &  6.5 &  7.0 &  7.5 &  8.0 &  8.5 &  9.0 &  9.5 & 10.0\\\\\n",
       "\t 10.5 & 11.0 & 11.5 & 12.0 & 12.5 & 13.0 & 13.5 & 14.0 & 14.5 & 15.0\\\\\n",
       "\t 15.5 & 16.0 & 16.5 & 17.0 & 17.5 & 18.0 & 18.5 & 19.0 & 19.5 & 20.0\\\\\n",
       "\t 20.5 & 21.0 & 21.5 & 22.0 & 22.5 & 23.0 & 23.5 & 24.0 & 24.5 & 25.0\\\\\n",
       "\\end{tabular}\n"
      ],
      "text/markdown": [
       "1. 0.5\n",
       "2. 5.5\n",
       "3. 10.5\n",
       "4. 15.5\n",
       "5. 20.5\n",
       "6. 1\n",
       "7. 6\n",
       "8. 11\n",
       "9. 16\n",
       "10. 21\n",
       "11. 1.5\n",
       "12. 6.5\n",
       "13. 11.5\n",
       "14. 16.5\n",
       "15. 21.5\n",
       "16. 2\n",
       "17. 7\n",
       "18. 12\n",
       "19. 17\n",
       "20. 22\n",
       "21. 2.5\n",
       "22. 7.5\n",
       "23. 12.5\n",
       "24. 17.5\n",
       "25. 22.5\n",
       "26. 3\n",
       "27. 8\n",
       "28. 13\n",
       "29. 18\n",
       "30. 23\n",
       "31. 3.5\n",
       "32. 8.5\n",
       "33. 13.5\n",
       "34. 18.5\n",
       "35. 23.5\n",
       "36. 4\n",
       "37. 9\n",
       "38. 14\n",
       "39. 19\n",
       "40. 24\n",
       "41. 4.5\n",
       "42. 9.5\n",
       "43. 14.5\n",
       "44. 19.5\n",
       "45. 24.5\n",
       "46. 5\n",
       "47. 10\n",
       "48. 15\n",
       "49. 20\n",
       "50. 25\n",
       "\n",
       "\n"
      ],
      "text/plain": [
       "     [,1] [,2] [,3] [,4] [,5] [,6] [,7] [,8] [,9] [,10]\n",
       "[1,]  0.5    1  1.5    2  2.5    3  3.5    4  4.5     5\n",
       "[2,]  5.5    6  6.5    7  7.5    8  8.5    9  9.5    10\n",
       "[3,] 10.5   11 11.5   12 12.5   13 13.5   14 14.5    15\n",
       "[4,] 15.5   16 16.5   17 17.5   18 18.5   19 19.5    20\n",
       "[5,] 20.5   21 21.5   22 22.5   23 23.5   24 24.5    25"
      ]
     },
     "metadata": {},
     "output_type": "display_data"
    }
   ],
   "source": [
    "mat/2"
   ]
  },
  {
   "cell_type": "code",
   "execution_count": 34,
   "metadata": {
    "collapsed": false
   },
   "outputs": [
    {
     "data": {
      "text/html": [
       "<table>\n",
       "<tbody>\n",
       "\t<tr><td>  1</td><td>  4</td><td>  9</td><td> 16</td><td> 25</td><td> 36</td><td> 49</td><td> 64</td><td> 81</td><td>100</td></tr>\n",
       "\t<tr><td>121</td><td>144</td><td>169</td><td>196</td><td>225</td><td>256</td><td>289</td><td>324</td><td>361</td><td>400</td></tr>\n",
       "\t<tr><td>441</td><td>484</td><td>529</td><td>576</td><td>625</td><td>676</td><td>729</td><td>784</td><td>841</td><td>900</td></tr>\n",
       "\t<tr><td> 961</td><td>1024</td><td>1089</td><td>1156</td><td>1225</td><td>1296</td><td>1369</td><td>1444</td><td>1521</td><td>1600</td></tr>\n",
       "\t<tr><td>1681</td><td>1764</td><td>1849</td><td>1936</td><td>2025</td><td>2116</td><td>2209</td><td>2304</td><td>2401</td><td>2500</td></tr>\n",
       "</tbody>\n",
       "</table>\n"
      ],
      "text/latex": [
       "\\begin{tabular}{llllllllll}\n",
       "\t   1 &   4 &   9 &  16 &  25 &  36 &  49 &  64 &  81 & 100\\\\\n",
       "\t 121 & 144 & 169 & 196 & 225 & 256 & 289 & 324 & 361 & 400\\\\\n",
       "\t 441 & 484 & 529 & 576 & 625 & 676 & 729 & 784 & 841 & 900\\\\\n",
       "\t  961 & 1024 & 1089 & 1156 & 1225 & 1296 & 1369 & 1444 & 1521 & 1600\\\\\n",
       "\t 1681 & 1764 & 1849 & 1936 & 2025 & 2116 & 2209 & 2304 & 2401 & 2500\\\\\n",
       "\\end{tabular}\n"
      ],
      "text/markdown": [
       "1. 1\n",
       "2. 121\n",
       "3. 441\n",
       "4. 961\n",
       "5. 1681\n",
       "6. 4\n",
       "7. 144\n",
       "8. 484\n",
       "9. 1024\n",
       "10. 1764\n",
       "11. 9\n",
       "12. 169\n",
       "13. 529\n",
       "14. 1089\n",
       "15. 1849\n",
       "16. 16\n",
       "17. 196\n",
       "18. 576\n",
       "19. 1156\n",
       "20. 1936\n",
       "21. 25\n",
       "22. 225\n",
       "23. 625\n",
       "24. 1225\n",
       "25. 2025\n",
       "26. 36\n",
       "27. 256\n",
       "28. 676\n",
       "29. 1296\n",
       "30. 2116\n",
       "31. 49\n",
       "32. 289\n",
       "33. 729\n",
       "34. 1369\n",
       "35. 2209\n",
       "36. 64\n",
       "37. 324\n",
       "38. 784\n",
       "39. 1444\n",
       "40. 2304\n",
       "41. 81\n",
       "42. 361\n",
       "43. 841\n",
       "44. 1521\n",
       "45. 2401\n",
       "46. 100\n",
       "47. 400\n",
       "48. 900\n",
       "49. 1600\n",
       "50. 2500\n",
       "\n",
       "\n"
      ],
      "text/plain": [
       "     [,1] [,2] [,3] [,4] [,5] [,6] [,7] [,8] [,9] [,10]\n",
       "[1,]    1    4    9   16   25   36   49   64   81   100\n",
       "[2,]  121  144  169  196  225  256  289  324  361   400\n",
       "[3,]  441  484  529  576  625  676  729  784  841   900\n",
       "[4,]  961 1024 1089 1156 1225 1296 1369 1444 1521  1600\n",
       "[5,] 1681 1764 1849 1936 2025 2116 2209 2304 2401  2500"
      ]
     },
     "metadata": {},
     "output_type": "display_data"
    }
   ],
   "source": [
    "mat ^ 2"
   ]
  },
  {
   "cell_type": "code",
   "execution_count": 35,
   "metadata": {
    "collapsed": false,
    "scrolled": true
   },
   "outputs": [
    {
     "data": {
      "text/html": [
       "<table>\n",
       "<tbody>\n",
       "\t<tr><td>FALSE</td><td>FALSE</td><td>FALSE</td><td>FALSE</td><td>FALSE</td><td>FALSE</td><td>FALSE</td><td>FALSE</td><td>FALSE</td><td>FALSE</td></tr>\n",
       "\t<tr><td>FALSE</td><td>FALSE</td><td>FALSE</td><td>FALSE</td><td>FALSE</td><td>FALSE</td><td>FALSE</td><td> TRUE</td><td> TRUE</td><td> TRUE</td></tr>\n",
       "\t<tr><td>TRUE</td><td>TRUE</td><td>TRUE</td><td>TRUE</td><td>TRUE</td><td>TRUE</td><td>TRUE</td><td>TRUE</td><td>TRUE</td><td>TRUE</td></tr>\n",
       "\t<tr><td>TRUE</td><td>TRUE</td><td>TRUE</td><td>TRUE</td><td>TRUE</td><td>TRUE</td><td>TRUE</td><td>TRUE</td><td>TRUE</td><td>TRUE</td></tr>\n",
       "\t<tr><td>TRUE</td><td>TRUE</td><td>TRUE</td><td>TRUE</td><td>TRUE</td><td>TRUE</td><td>TRUE</td><td>TRUE</td><td>TRUE</td><td>TRUE</td></tr>\n",
       "</tbody>\n",
       "</table>\n"
      ],
      "text/latex": [
       "\\begin{tabular}{llllllllll}\n",
       "\t FALSE & FALSE & FALSE & FALSE & FALSE & FALSE & FALSE & FALSE & FALSE & FALSE\\\\\n",
       "\t FALSE & FALSE & FALSE & FALSE & FALSE & FALSE & FALSE &  TRUE &  TRUE &  TRUE\\\\\n",
       "\t TRUE & TRUE & TRUE & TRUE & TRUE & TRUE & TRUE & TRUE & TRUE & TRUE\\\\\n",
       "\t TRUE & TRUE & TRUE & TRUE & TRUE & TRUE & TRUE & TRUE & TRUE & TRUE\\\\\n",
       "\t TRUE & TRUE & TRUE & TRUE & TRUE & TRUE & TRUE & TRUE & TRUE & TRUE\\\\\n",
       "\\end{tabular}\n"
      ],
      "text/markdown": [
       "1. FALSE\n",
       "2. FALSE\n",
       "3. TRUE\n",
       "4. TRUE\n",
       "5. TRUE\n",
       "6. FALSE\n",
       "7. FALSE\n",
       "8. TRUE\n",
       "9. TRUE\n",
       "10. TRUE\n",
       "11. FALSE\n",
       "12. FALSE\n",
       "13. TRUE\n",
       "14. TRUE\n",
       "15. TRUE\n",
       "16. FALSE\n",
       "17. FALSE\n",
       "18. TRUE\n",
       "19. TRUE\n",
       "20. TRUE\n",
       "21. FALSE\n",
       "22. FALSE\n",
       "23. TRUE\n",
       "24. TRUE\n",
       "25. TRUE\n",
       "26. FALSE\n",
       "27. FALSE\n",
       "28. TRUE\n",
       "29. TRUE\n",
       "30. TRUE\n",
       "31. FALSE\n",
       "32. FALSE\n",
       "33. TRUE\n",
       "34. TRUE\n",
       "35. TRUE\n",
       "36. FALSE\n",
       "37. TRUE\n",
       "38. TRUE\n",
       "39. TRUE\n",
       "40. TRUE\n",
       "41. FALSE\n",
       "42. TRUE\n",
       "43. TRUE\n",
       "44. TRUE\n",
       "45. TRUE\n",
       "46. FALSE\n",
       "47. TRUE\n",
       "48. TRUE\n",
       "49. TRUE\n",
       "50. TRUE\n",
       "\n",
       "\n"
      ],
      "text/plain": [
       "      [,1]  [,2]  [,3]  [,4]  [,5]  [,6]  [,7]  [,8]  [,9] [,10]\n",
       "[1,] FALSE FALSE FALSE FALSE FALSE FALSE FALSE FALSE FALSE FALSE\n",
       "[2,] FALSE FALSE FALSE FALSE FALSE FALSE FALSE  TRUE  TRUE  TRUE\n",
       "[3,]  TRUE  TRUE  TRUE  TRUE  TRUE  TRUE  TRUE  TRUE  TRUE  TRUE\n",
       "[4,]  TRUE  TRUE  TRUE  TRUE  TRUE  TRUE  TRUE  TRUE  TRUE  TRUE\n",
       "[5,]  TRUE  TRUE  TRUE  TRUE  TRUE  TRUE  TRUE  TRUE  TRUE  TRUE"
      ]
     },
     "metadata": {},
     "output_type": "display_data"
    }
   ],
   "source": [
    "mat > 17"
   ]
  },
  {
   "cell_type": "code",
   "execution_count": 36,
   "metadata": {
    "collapsed": false
   },
   "outputs": [
    {
     "name": "stderr",
     "output_type": "stream",
     "text": [
      "Warning message:\n",
      "In matrix(mat[mat > 17], nrow = 4): data length [33] is not a sub-multiple or multiple of the number of rows [4]"
     ]
    },
    {
     "data": {
      "text/html": [
       "<table>\n",
       "<tbody>\n",
       "\t<tr><td>21</td><td>32</td><td>43</td><td>25</td><td>36</td><td>47</td><td>48</td><td>49</td><td>50</td></tr>\n",
       "\t<tr><td>31</td><td>42</td><td>24</td><td>35</td><td>46</td><td>18</td><td>19</td><td>20</td><td>21</td></tr>\n",
       "\t<tr><td>41</td><td>23</td><td>34</td><td>45</td><td>27</td><td>28</td><td>29</td><td>30</td><td>31</td></tr>\n",
       "\t<tr><td>22</td><td>33</td><td>44</td><td>26</td><td>37</td><td>38</td><td>39</td><td>40</td><td>41</td></tr>\n",
       "</tbody>\n",
       "</table>\n"
      ],
      "text/latex": [
       "\\begin{tabular}{lllllllll}\n",
       "\t 21 & 32 & 43 & 25 & 36 & 47 & 48 & 49 & 50\\\\\n",
       "\t 31 & 42 & 24 & 35 & 46 & 18 & 19 & 20 & 21\\\\\n",
       "\t 41 & 23 & 34 & 45 & 27 & 28 & 29 & 30 & 31\\\\\n",
       "\t 22 & 33 & 44 & 26 & 37 & 38 & 39 & 40 & 41\\\\\n",
       "\\end{tabular}\n"
      ],
      "text/markdown": [
       "1. 21\n",
       "2. 31\n",
       "3. 41\n",
       "4. 22\n",
       "5. 32\n",
       "6. 42\n",
       "7. 23\n",
       "8. 33\n",
       "9. 43\n",
       "10. 24\n",
       "11. 34\n",
       "12. 44\n",
       "13. 25\n",
       "14. 35\n",
       "15. 45\n",
       "16. 26\n",
       "17. 36\n",
       "18. 46\n",
       "19. 27\n",
       "20. 37\n",
       "21. 47\n",
       "22. 18\n",
       "23. 28\n",
       "24. 38\n",
       "25. 48\n",
       "26. 19\n",
       "27. 29\n",
       "28. 39\n",
       "29. 49\n",
       "30. 20\n",
       "31. 30\n",
       "32. 40\n",
       "33. 50\n",
       "34. 21\n",
       "35. 31\n",
       "36. 41\n",
       "\n",
       "\n"
      ],
      "text/plain": [
       "     [,1] [,2] [,3] [,4] [,5] [,6] [,7] [,8] [,9]\n",
       "[1,]   21   32   43   25   36   47   48   49   50\n",
       "[2,]   31   42   24   35   46   18   19   20   21\n",
       "[3,]   41   23   34   45   27   28   29   30   31\n",
       "[4,]   22   33   44   26   37   38   39   40   41"
      ]
     },
     "metadata": {},
     "output_type": "display_data"
    }
   ],
   "source": [
    "matrix(mat [mat > 17], nrow = 4)"
   ]
  },
  {
   "cell_type": "code",
   "execution_count": 37,
   "metadata": {
    "collapsed": false
   },
   "outputs": [
    {
     "data": {
      "text/html": [
       "<table>\n",
       "<tbody>\n",
       "\t<tr><td> 2</td><td> 4</td><td> 6</td><td> 8</td><td>10</td><td>12</td><td>14</td><td>16</td><td>18</td><td>20</td></tr>\n",
       "\t<tr><td>22</td><td>24</td><td>26</td><td>28</td><td>30</td><td>32</td><td>34</td><td>36</td><td>38</td><td>40</td></tr>\n",
       "\t<tr><td>42</td><td>44</td><td>46</td><td>48</td><td>50</td><td>52</td><td>54</td><td>56</td><td>58</td><td>60</td></tr>\n",
       "\t<tr><td>62</td><td>64</td><td>66</td><td>68</td><td>70</td><td>72</td><td>74</td><td>76</td><td>78</td><td>80</td></tr>\n",
       "\t<tr><td> 82</td><td> 84</td><td> 86</td><td> 88</td><td> 90</td><td> 92</td><td> 94</td><td> 96</td><td> 98</td><td>100</td></tr>\n",
       "</tbody>\n",
       "</table>\n"
      ],
      "text/latex": [
       "\\begin{tabular}{llllllllll}\n",
       "\t  2 &  4 &  6 &  8 & 10 & 12 & 14 & 16 & 18 & 20\\\\\n",
       "\t 22 & 24 & 26 & 28 & 30 & 32 & 34 & 36 & 38 & 40\\\\\n",
       "\t 42 & 44 & 46 & 48 & 50 & 52 & 54 & 56 & 58 & 60\\\\\n",
       "\t 62 & 64 & 66 & 68 & 70 & 72 & 74 & 76 & 78 & 80\\\\\n",
       "\t  82 &  84 &  86 &  88 &  90 &  92 &  94 &  96 &  98 & 100\\\\\n",
       "\\end{tabular}\n"
      ],
      "text/markdown": [
       "1. 2\n",
       "2. 22\n",
       "3. 42\n",
       "4. 62\n",
       "5. 82\n",
       "6. 4\n",
       "7. 24\n",
       "8. 44\n",
       "9. 64\n",
       "10. 84\n",
       "11. 6\n",
       "12. 26\n",
       "13. 46\n",
       "14. 66\n",
       "15. 86\n",
       "16. 8\n",
       "17. 28\n",
       "18. 48\n",
       "19. 68\n",
       "20. 88\n",
       "21. 10\n",
       "22. 30\n",
       "23. 50\n",
       "24. 70\n",
       "25. 90\n",
       "26. 12\n",
       "27. 32\n",
       "28. 52\n",
       "29. 72\n",
       "30. 92\n",
       "31. 14\n",
       "32. 34\n",
       "33. 54\n",
       "34. 74\n",
       "35. 94\n",
       "36. 16\n",
       "37. 36\n",
       "38. 56\n",
       "39. 76\n",
       "40. 96\n",
       "41. 18\n",
       "42. 38\n",
       "43. 58\n",
       "44. 78\n",
       "45. 98\n",
       "46. 20\n",
       "47. 40\n",
       "48. 60\n",
       "49. 80\n",
       "50. 100\n",
       "\n",
       "\n"
      ],
      "text/plain": [
       "     [,1] [,2] [,3] [,4] [,5] [,6] [,7] [,8] [,9] [,10]\n",
       "[1,]    2    4    6    8   10   12   14   16   18    20\n",
       "[2,]   22   24   26   28   30   32   34   36   38    40\n",
       "[3,]   42   44   46   48   50   52   54   56   58    60\n",
       "[4,]   62   64   66   68   70   72   74   76   78    80\n",
       "[5,]   82   84   86   88   90   92   94   96   98   100"
      ]
     },
     "metadata": {},
     "output_type": "display_data"
    }
   ],
   "source": [
    "mat + mat"
   ]
  },
  {
   "cell_type": "code",
   "execution_count": 38,
   "metadata": {
    "collapsed": false
   },
   "outputs": [
    {
     "data": {
      "text/html": [
       "<table>\n",
       "<tbody>\n",
       "\t<tr><td>1</td><td>1</td><td>1</td><td>1</td><td>1</td><td>1</td><td>1</td><td>1</td><td>1</td><td>1</td></tr>\n",
       "\t<tr><td>1</td><td>1</td><td>1</td><td>1</td><td>1</td><td>1</td><td>1</td><td>1</td><td>1</td><td>1</td></tr>\n",
       "\t<tr><td>1</td><td>1</td><td>1</td><td>1</td><td>1</td><td>1</td><td>1</td><td>1</td><td>1</td><td>1</td></tr>\n",
       "\t<tr><td>1</td><td>1</td><td>1</td><td>1</td><td>1</td><td>1</td><td>1</td><td>1</td><td>1</td><td>1</td></tr>\n",
       "\t<tr><td>1</td><td>1</td><td>1</td><td>1</td><td>1</td><td>1</td><td>1</td><td>1</td><td>1</td><td>1</td></tr>\n",
       "</tbody>\n",
       "</table>\n"
      ],
      "text/latex": [
       "\\begin{tabular}{llllllllll}\n",
       "\t 1 & 1 & 1 & 1 & 1 & 1 & 1 & 1 & 1 & 1\\\\\n",
       "\t 1 & 1 & 1 & 1 & 1 & 1 & 1 & 1 & 1 & 1\\\\\n",
       "\t 1 & 1 & 1 & 1 & 1 & 1 & 1 & 1 & 1 & 1\\\\\n",
       "\t 1 & 1 & 1 & 1 & 1 & 1 & 1 & 1 & 1 & 1\\\\\n",
       "\t 1 & 1 & 1 & 1 & 1 & 1 & 1 & 1 & 1 & 1\\\\\n",
       "\\end{tabular}\n"
      ],
      "text/markdown": [
       "1. 1\n",
       "2. 1\n",
       "3. 1\n",
       "4. 1\n",
       "5. 1\n",
       "6. 1\n",
       "7. 1\n",
       "8. 1\n",
       "9. 1\n",
       "10. 1\n",
       "11. 1\n",
       "12. 1\n",
       "13. 1\n",
       "14. 1\n",
       "15. 1\n",
       "16. 1\n",
       "17. 1\n",
       "18. 1\n",
       "19. 1\n",
       "20. 1\n",
       "21. 1\n",
       "22. 1\n",
       "23. 1\n",
       "24. 1\n",
       "25. 1\n",
       "26. 1\n",
       "27. 1\n",
       "28. 1\n",
       "29. 1\n",
       "30. 1\n",
       "31. 1\n",
       "32. 1\n",
       "33. 1\n",
       "34. 1\n",
       "35. 1\n",
       "36. 1\n",
       "37. 1\n",
       "38. 1\n",
       "39. 1\n",
       "40. 1\n",
       "41. 1\n",
       "42. 1\n",
       "43. 1\n",
       "44. 1\n",
       "45. 1\n",
       "46. 1\n",
       "47. 1\n",
       "48. 1\n",
       "49. 1\n",
       "50. 1\n",
       "\n",
       "\n"
      ],
      "text/plain": [
       "     [,1] [,2] [,3] [,4] [,5] [,6] [,7] [,8] [,9] [,10]\n",
       "[1,]    1    1    1    1    1    1    1    1    1     1\n",
       "[2,]    1    1    1    1    1    1    1    1    1     1\n",
       "[3,]    1    1    1    1    1    1    1    1    1     1\n",
       "[4,]    1    1    1    1    1    1    1    1    1     1\n",
       "[5,]    1    1    1    1    1    1    1    1    1     1"
      ]
     },
     "metadata": {},
     "output_type": "display_data"
    }
   ],
   "source": [
    "mat/mat"
   ]
  },
  {
   "cell_type": "code",
   "execution_count": 39,
   "metadata": {
    "collapsed": false
   },
   "outputs": [
    {
     "data": {
      "text/html": [
       "<table>\n",
       "<tbody>\n",
       "\t<tr><td> 1</td><td>16</td><td>49</td></tr>\n",
       "\t<tr><td> 4</td><td>25</td><td>64</td></tr>\n",
       "\t<tr><td> 9</td><td>36</td><td>81</td></tr>\n",
       "</tbody>\n",
       "</table>\n"
      ],
      "text/latex": [
       "\\begin{tabular}{lll}\n",
       "\t  1 & 16 & 49\\\\\n",
       "\t  4 & 25 & 64\\\\\n",
       "\t  9 & 36 & 81\\\\\n",
       "\\end{tabular}\n"
      ],
      "text/markdown": [
       "1. 1\n",
       "2. 4\n",
       "3. 9\n",
       "4. 16\n",
       "5. 25\n",
       "6. 36\n",
       "7. 49\n",
       "8. 64\n",
       "9. 81\n",
       "\n",
       "\n"
      ],
      "text/plain": [
       "     [,1] [,2] [,3]\n",
       "[1,]    1   16   49\n",
       "[2,]    4   25   64\n",
       "[3,]    9   36   81"
      ]
     },
     "metadata": {},
     "output_type": "display_data"
    },
    {
     "data": {
      "text/html": [
       "<table>\n",
       "<tbody>\n",
       "\t<tr><td> 30</td><td> 66</td><td>102</td></tr>\n",
       "\t<tr><td> 36</td><td> 81</td><td>126</td></tr>\n",
       "\t<tr><td> 42</td><td> 96</td><td>150</td></tr>\n",
       "</tbody>\n",
       "</table>\n"
      ],
      "text/latex": [
       "\\begin{tabular}{lll}\n",
       "\t  30 &  66 & 102\\\\\n",
       "\t  36 &  81 & 126\\\\\n",
       "\t  42 &  96 & 150\\\\\n",
       "\\end{tabular}\n"
      ],
      "text/markdown": [
       "1. 30\n",
       "2. 36\n",
       "3. 42\n",
       "4. 66\n",
       "5. 81\n",
       "6. 96\n",
       "7. 102\n",
       "8. 126\n",
       "9. 150\n",
       "\n",
       "\n"
      ],
      "text/plain": [
       "     [,1] [,2] [,3]\n",
       "[1,]   30   66  102\n",
       "[2,]   36   81  126\n",
       "[3,]   42   96  150"
      ]
     },
     "metadata": {},
     "output_type": "display_data"
    }
   ],
   "source": [
    "mat2 <- matrix(1:9, nrow=3)\n",
    "mat2 * mat2\n",
    "mat2 %*% mat2"
   ]
  },
  {
   "cell_type": "code",
   "execution_count": 40,
   "metadata": {
    "collapsed": false
   },
   "outputs": [
    {
     "data": {
      "text/html": [
       "<h3>Data sets</h3>\n",
       "<table>\n",
       "<thead><tr><th></th><th scope=col>Package</th><th scope=col>Item</th><th scope=col>Title</th></tr></thead>\n",
       "<tbody>\n",
       "\t<tr><th scope=row>1</th><td>datasets                                   </td><td>AirPassengers                              </td><td>Monthly Airline Passenger Numbers 1949-1960</td></tr>\n",
       "\t<tr><th scope=row>2</th><td>datasets                         </td><td>BJsales                          </td><td>Sales Data with Leading Indicator</td></tr>\n",
       "\t<tr><th scope=row>3</th><td>datasets                         </td><td>BJsales.lead (BJsales)           </td><td>Sales Data with Leading Indicator</td></tr>\n",
       "\t<tr><th scope=row>4</th><td>datasets                 </td><td>BOD                      </td><td>Biochemical Oxygen Demand</td></tr>\n",
       "\t<tr><th scope=row>5</th><td>datasets                             </td><td>CO2                                  </td><td>Carbon Dioxide Uptake in Grass Plants</td></tr>\n",
       "\t<tr><th scope=row>6</th><td>datasets                                      </td><td>ChickWeight                                   </td><td>Weight versus age of chicks on different diets</td></tr>\n",
       "\t<tr><th scope=row>7</th><td>datasets            </td><td>DNase               </td><td>Elisa assay of DNase</td></tr>\n",
       "\t<tr><th scope=row>8</th><td>datasets                                                       </td><td>EuStockMarkets                                                 </td><td>Daily Closing Prices of Major European Stock Indices, 1991-1998</td></tr>\n",
       "\t<tr><th scope=row>9</th><td>datasets                     </td><td>Formaldehyde                 </td><td>Determination of Formaldehyde</td></tr>\n",
       "\t<tr><th scope=row>10</th><td>datasets                                 </td><td>HairEyeColor                             </td><td>Hair and Eye Color of Statistics Students</td></tr>\n",
       "\t<tr><th scope=row>11</th><td>datasets          </td><td>Harman23.cor      </td><td>Harman Example 2.3</td></tr>\n",
       "\t<tr><th scope=row>12</th><td>datasets          </td><td>Harman74.cor      </td><td>Harman Example 7.4</td></tr>\n",
       "\t<tr><th scope=row>13</th><td>datasets                        </td><td>Indometh                        </td><td>Pharmacokinetics of Indomethacin</td></tr>\n",
       "\t<tr><th scope=row>14</th><td>datasets                      </td><td>InsectSprays                  </td><td>Effectiveness of Insect Sprays</td></tr>\n",
       "\t<tr><th scope=row>15</th><td>datasets                                          </td><td>JohnsonJohnson                                    </td><td>Quarterly Earnings per Johnson &amp; Johnson Share</td></tr>\n",
       "\t<tr><th scope=row>16</th><td>datasets                     </td><td>LakeHuron                    </td><td>Level of Lake Huron 1875-1972</td></tr>\n",
       "\t<tr><th scope=row>17</th><td>datasets                            </td><td>LifeCycleSavings                    </td><td>Intercountry Life-Cycle Savings Data</td></tr>\n",
       "\t<tr><th scope=row>18</th><td>datasets                     </td><td>Loblolly                     </td><td>Growth of Loblolly pine trees</td></tr>\n",
       "\t<tr><th scope=row>19</th><td>datasets              </td><td>Nile                  </td><td>Flow of the River Nile</td></tr>\n",
       "\t<tr><th scope=row>20</th><td>datasets              </td><td>Orange                </td><td>Growth of Orange Trees</td></tr>\n",
       "\t<tr><th scope=row>21</th><td>datasets                 </td><td>OrchardSprays            </td><td>Potency of Orchard Sprays</td></tr>\n",
       "\t<tr><th scope=row>22</th><td>datasets                                  </td><td>PlantGrowth                               </td><td>Results from an Experiment on Plant Growth</td></tr>\n",
       "\t<tr><th scope=row>23</th><td>datasets                                  </td><td>Puromycin                                 </td><td>Reaction Velocity of an Enzymatic Reaction</td></tr>\n",
       "\t<tr><th scope=row>24</th><td>datasets                                </td><td>Seatbelts                               </td><td>Road Casualties in Great Britain 1969-84</td></tr>\n",
       "\t<tr><th scope=row>25</th><td>datasets                        </td><td>Theoph                          </td><td>Pharmacokinetics of Theophylline</td></tr>\n",
       "\t<tr><th scope=row>26</th><td>datasets                             </td><td>Titanic                              </td><td>Survival of passengers on the Titanic</td></tr>\n",
       "\t<tr><th scope=row>27</th><td>datasets                                              </td><td>ToothGrowth                                           </td><td>The Effect of Vitamin C on Tooth Growth in Guinea Pigs</td></tr>\n",
       "\t<tr><th scope=row>28</th><td>datasets                         </td><td>UCBAdmissions                    </td><td>Student Admissions at UC Berkeley</td></tr>\n",
       "\t<tr><th scope=row>29</th><td>datasets                                </td><td>UKDriverDeaths                          </td><td>Road Casualties in Great Britain 1969-84</td></tr>\n",
       "\t<tr><th scope=row>30</th><td>datasets                    </td><td>UKgas                       </td><td>UK Quarterly Gas Consumption</td></tr>\n",
       "\t<tr><th scope=row>31</th><td>datasets                             </td><td>USAccDeaths                          </td><td>Accidental Deaths in the US 1973-1978</td></tr>\n",
       "\t<tr><th scope=row>32</th><td>datasets                       </td><td>USArrests                      </td><td>Violent Crime Rates by US State</td></tr>\n",
       "\t<tr><th scope=row>33</th><td>datasets                                                 </td><td>USJudgeRatings                                           </td><td>Lawyers' Ratings of State Judges in the US Superior Court</td></tr>\n",
       "\t<tr><th scope=row>34</th><td>datasets                 </td><td>USPersonalExpenditure    </td><td>Personal Expenditure Data</td></tr>\n",
       "\t<tr><th scope=row>35</th><td>datasets                                               </td><td>UScitiesD                                              </td><td>Distances Between European Cities and Between US Cities</td></tr>\n",
       "\t<tr><th scope=row>36</th><td>datasets                      </td><td>VADeaths                      </td><td>Death Rates in Virginia (1940)</td></tr>\n",
       "\t<tr><th scope=row>37</th><td>datasets                 </td><td>WWWusage                 </td><td>Internet Usage per Minute</td></tr>\n",
       "\t<tr><th scope=row>38</th><td>datasets              </td><td>WorldPhones           </td><td>The World's Telephones</td></tr>\n",
       "\t<tr><th scope=row>39</th><td>datasets                      </td><td>ability.cov                   </td><td>Ability and Intelligence Tests</td></tr>\n",
       "\t<tr><th scope=row>40</th><td>datasets                                            </td><td>airmiles                                            </td><td>Passenger Miles on Commercial US Airlines, 1937-1960</td></tr>\n",
       "\t<tr><th scope=row>41</th><td>datasets                         </td><td>airquality                       </td><td>New York Air Quality Measurements</td></tr>\n",
       "\t<tr><th scope=row>42</th><td>datasets                                                   </td><td>anscombe                                                   </td><td>Anscombe's Quartet of 'Identical' Simple Linear Regressions</td></tr>\n",
       "\t<tr><th scope=row>43</th><td>datasets                         </td><td>attenu                           </td><td>The Joyner-Boore Attenuation Data</td></tr>\n",
       "\t<tr><th scope=row>44</th><td>datasets                          </td><td>attitude                          </td><td>The Chatterjee-Price Attitude Data</td></tr>\n",
       "\t<tr><th scope=row>45</th><td>datasets                                                   </td><td>austres                                                    </td><td>Quarterly Time Series of the Number of Australian Residents</td></tr>\n",
       "\t<tr><th scope=row>46</th><td>datasets                              </td><td>beaver1 (beavers)                     </td><td>Body Temperature Series of Two Beavers</td></tr>\n",
       "\t<tr><th scope=row>47</th><td>datasets                              </td><td>beaver2 (beavers)                     </td><td>Body Temperature Series of Two Beavers</td></tr>\n",
       "\t<tr><th scope=row>48</th><td>datasets                            </td><td>cars                                </td><td>Speed and Stopping Distances of Cars</td></tr>\n",
       "\t<tr><th scope=row>49</th><td>datasets                    </td><td>chickwts                    </td><td>Chicken Weights by Feed Type</td></tr>\n",
       "\t<tr><th scope=row>50</th><td>datasets                               </td><td>co2                                    </td><td>Mauna Loa Atmospheric CO2 Concentration</td></tr>\n",
       "\t<tr><th scope=row>51</th><td>datasets                     </td><td>crimtab                      </td><td>Student's 3000 Criminals Data</td></tr>\n",
       "\t<tr><th scope=row>52</th><td>datasets                               </td><td>discoveries                            </td><td>Yearly Numbers of Important Discoveries</td></tr>\n",
       "\t<tr><th scope=row>53</th><td>datasets                                 </td><td>esoph                                    </td><td>Smoking, Alcohol and (O)esophageal Cancer</td></tr>\n",
       "\t<tr><th scope=row>54</th><td>datasets                           </td><td>euro                               </td><td>Conversion Rates of Euro Currencies</td></tr>\n",
       "\t<tr><th scope=row>55</th><td>datasets                           </td><td>euro.cross (euro)                  </td><td>Conversion Rates of Euro Currencies</td></tr>\n",
       "\t<tr><th scope=row>56</th><td>datasets                                               </td><td>eurodist                                               </td><td>Distances Between European Cities and Between US Cities</td></tr>\n",
       "\t<tr><th scope=row>57</th><td>datasets                </td><td>faithful                </td><td>Old Faithful Geyser Data</td></tr>\n",
       "\t<tr><th scope=row>58</th><td>datasets                                   </td><td>fdeaths (UKLungDeaths)                     </td><td>Monthly Deaths from Lung Diseases in the UK</td></tr>\n",
       "\t<tr><th scope=row>59</th><td>datasets             </td><td>freeny               </td><td>Freeny's Revenue Data</td></tr>\n",
       "\t<tr><th scope=row>60</th><td>datasets             </td><td>freeny.x (freeny)    </td><td>Freeny's Revenue Data</td></tr>\n",
       "\t<tr><th scope=row>61</th><td>datasets             </td><td>freeny.y (freeny)    </td><td>Freeny's Revenue Data</td></tr>\n",
       "\t<tr><th scope=row>62</th><td>datasets                                          </td><td>infert                                            </td><td>Infertility after Spontaneous and Induced Abortion</td></tr>\n",
       "\t<tr><th scope=row>63</th><td>datasets                  </td><td>iris                      </td><td>Edgar Anderson's Iris Data</td></tr>\n",
       "\t<tr><th scope=row>64</th><td>datasets                  </td><td>iris3                     </td><td>Edgar Anderson's Iris Data</td></tr>\n",
       "\t<tr><th scope=row>65</th><td>datasets                             </td><td>islands                              </td><td>Areas of the World's Major Landmasses</td></tr>\n",
       "\t<tr><th scope=row>66</th><td>datasets                                   </td><td>ldeaths (UKLungDeaths)                     </td><td>Monthly Deaths from Lung Diseases in the UK</td></tr>\n",
       "\t<tr><th scope=row>67</th><td>datasets                            </td><td>lh                                  </td><td>Luteinizing Hormone in Blood Samples</td></tr>\n",
       "\t<tr><th scope=row>68</th><td>datasets                          </td><td>longley                           </td><td>Longley's Economic Regression Data</td></tr>\n",
       "\t<tr><th scope=row>69</th><td>datasets                                </td><td>lynx                                    </td><td>Annual Canadian Lynx trappings 1821-1934</td></tr>\n",
       "\t<tr><th scope=row>70</th><td>datasets                                   </td><td>mdeaths (UKLungDeaths)                     </td><td>Monthly Deaths from Lung Diseases in the UK</td></tr>\n",
       "\t<tr><th scope=row>71</th><td>datasets                     </td><td>morley                       </td><td>Michelson Speed of Light Data</td></tr>\n",
       "\t<tr><th scope=row>72</th><td>datasets                  </td><td>mtcars                    </td><td>Motor Trend Car Road Tests</td></tr>\n",
       "\t<tr><th scope=row>73</th><td>datasets                                </td><td>nhtemp                                  </td><td>Average Yearly Temperatures in New Haven</td></tr>\n",
       "\t<tr><th scope=row>74</th><td>datasets                                             </td><td>nottem                                               </td><td>Average Monthly Temperatures at Nottingham, 1920-1939</td></tr>\n",
       "\t<tr><th scope=row>75</th><td>datasets                              </td><td>npk                                   </td><td>Classical N, P, K Factorial Experiment</td></tr>\n",
       "\t<tr><th scope=row>76</th><td>datasets                                     </td><td>occupationalStatus                           </td><td>Occupational Status of Fathers and their Sons</td></tr>\n",
       "\t<tr><th scope=row>77</th><td>datasets                         </td><td>precip                           </td><td>Annual Precipitation in US Cities</td></tr>\n",
       "\t<tr><th scope=row>78</th><td>datasets                                   </td><td>presidents                                 </td><td>Quarterly Approval Ratings of US Presidents</td></tr>\n",
       "\t<tr><th scope=row>79</th><td>datasets                                              </td><td>pressure                                              </td><td>Vapor Pressure of Mercury as a Function of Temperature</td></tr>\n",
       "\t<tr><th scope=row>80</th><td>datasets                         </td><td>quakes                           </td><td>Locations of Earthquakes off Fiji</td></tr>\n",
       "\t<tr><th scope=row>81</th><td>datasets                                        </td><td>randu                                           </td><td>Random Numbers from Congruential Generator RANDU</td></tr>\n",
       "\t<tr><th scope=row>82</th><td>datasets                              </td><td>rivers                                </td><td>Lengths of Major North American Rivers</td></tr>\n",
       "\t<tr><th scope=row>83</th><td>datasets                              </td><td>rock                                  </td><td>Measurements on Petroleum Rock Samples</td></tr>\n",
       "\t<tr><th scope=row>84</th><td>datasets            </td><td>sleep               </td><td>Student's Sleep Data</td></tr>\n",
       "\t<tr><th scope=row>85</th><td>datasets                        </td><td>stack.loss (stackloss)          </td><td>Brownlee's Stack Loss Plant Data</td></tr>\n",
       "\t<tr><th scope=row>86</th><td>datasets                        </td><td>stack.x (stackloss)             </td><td>Brownlee's Stack Loss Plant Data</td></tr>\n",
       "\t<tr><th scope=row>87</th><td>datasets                        </td><td>stackloss                       </td><td>Brownlee's Stack Loss Plant Data</td></tr>\n",
       "\t<tr><th scope=row>88</th><td>datasets                  </td><td>state.abb (state)         </td><td>US State Facts and Figures</td></tr>\n",
       "\t<tr><th scope=row>89</th><td>datasets                  </td><td>state.area (state)        </td><td>US State Facts and Figures</td></tr>\n",
       "\t<tr><th scope=row>90</th><td>datasets                  </td><td>state.center (state)      </td><td>US State Facts and Figures</td></tr>\n",
       "\t<tr><th scope=row>91</th><td>datasets                  </td><td>state.division (state)    </td><td>US State Facts and Figures</td></tr>\n",
       "\t<tr><th scope=row>92</th><td>datasets                  </td><td>state.name (state)        </td><td>US State Facts and Figures</td></tr>\n",
       "\t<tr><th scope=row>93</th><td>datasets                  </td><td>state.region (state)      </td><td>US State Facts and Figures</td></tr>\n",
       "\t<tr><th scope=row>94</th><td>datasets                  </td><td>state.x77 (state)         </td><td>US State Facts and Figures</td></tr>\n",
       "\t<tr><th scope=row>95</th><td>datasets                                    </td><td>sunspot.month                               </td><td>Monthly Sunspot Data, from 1749 to \"Present\"</td></tr>\n",
       "\t<tr><th scope=row>96</th><td>datasets                      </td><td>sunspot.year                  </td><td>Yearly Sunspot Data, 1700-1988</td></tr>\n",
       "\t<tr><th scope=row>97</th><td>datasets                          </td><td>sunspots                          </td><td>Monthly Sunspot Numbers, 1749-1983</td></tr>\n",
       "\t<tr><th scope=row>98</th><td>datasets                                                </td><td>swiss                                                   </td><td>Swiss Fertility and Socioeconomic Indicators (1888) Data</td></tr>\n",
       "\t<tr><th scope=row>99</th><td>datasets                        </td><td>treering                        </td><td>Yearly Treering Data, -6000-1979</td></tr>\n",
       "\t<tr><th scope=row>100</th><td>datasets                                       </td><td>trees                                          </td><td>Girth, Height and Volume for Black Cherry Trees</td></tr>\n",
       "\t<tr><th scope=row>101</th><td>datasets                             </td><td>uspop                                </td><td>Populations Recorded by the US Census</td></tr>\n",
       "\t<tr><th scope=row>102</th><td>datasets                                                 </td><td>volcano                                                  </td><td>Topographic Information on Auckland's Maunga Whau Volcano</td></tr>\n",
       "\t<tr><th scope=row>103</th><td>datasets                                   </td><td>warpbreaks                                 </td><td>The Number of Breaks in Yarn during Weaving</td></tr>\n",
       "\t<tr><th scope=row>104</th><td>datasets                                      </td><td>women                                         </td><td>Average Heights and Weights for American Women</td></tr>\n",
       "</tbody>\n",
       "</table>\n",
       "\n",
       "<p>Use 'data(package = .packages(all.available = TRUE))'\n",
       "to list the data sets in all *available* packages.</p>"
      ],
      "text/plain": [
       "Data sets in package 'datasets':\n",
       "\n",
       "AirPassengers           Monthly Airline Passenger Numbers 1949-1960\n",
       "BJsales                 Sales Data with Leading Indicator\n",
       "BJsales.lead (BJsales)\n",
       "                        Sales Data with Leading Indicator\n",
       "BOD                     Biochemical Oxygen Demand\n",
       "CO2                     Carbon Dioxide Uptake in Grass Plants\n",
       "ChickWeight             Weight versus age of chicks on different diets\n",
       "DNase                   Elisa assay of DNase\n",
       "EuStockMarkets          Daily Closing Prices of Major European Stock\n",
       "                        Indices, 1991-1998\n",
       "Formaldehyde            Determination of Formaldehyde\n",
       "HairEyeColor            Hair and Eye Color of Statistics Students\n",
       "Harman23.cor            Harman Example 2.3\n",
       "Harman74.cor            Harman Example 7.4\n",
       "Indometh                Pharmacokinetics of Indomethacin\n",
       "InsectSprays            Effectiveness of Insect Sprays\n",
       "JohnsonJohnson          Quarterly Earnings per Johnson & Johnson Share\n",
       "LakeHuron               Level of Lake Huron 1875-1972\n",
       "LifeCycleSavings        Intercountry Life-Cycle Savings Data\n",
       "Loblolly                Growth of Loblolly pine trees\n",
       "Nile                    Flow of the River Nile\n",
       "Orange                  Growth of Orange Trees\n",
       "OrchardSprays           Potency of Orchard Sprays\n",
       "PlantGrowth             Results from an Experiment on Plant Growth\n",
       "Puromycin               Reaction Velocity of an Enzymatic Reaction\n",
       "Seatbelts               Road Casualties in Great Britain 1969-84\n",
       "Theoph                  Pharmacokinetics of Theophylline\n",
       "Titanic                 Survival of passengers on the Titanic\n",
       "ToothGrowth             The Effect of Vitamin C on Tooth Growth in\n",
       "                        Guinea Pigs\n",
       "UCBAdmissions           Student Admissions at UC Berkeley\n",
       "UKDriverDeaths          Road Casualties in Great Britain 1969-84\n",
       "UKgas                   UK Quarterly Gas Consumption\n",
       "USAccDeaths             Accidental Deaths in the US 1973-1978\n",
       "USArrests               Violent Crime Rates by US State\n",
       "USJudgeRatings          Lawyers' Ratings of State Judges in the US\n",
       "                        Superior Court\n",
       "USPersonalExpenditure   Personal Expenditure Data\n",
       "UScitiesD               Distances Between European Cities and Between\n",
       "                        US Cities\n",
       "VADeaths                Death Rates in Virginia (1940)\n",
       "WWWusage                Internet Usage per Minute\n",
       "WorldPhones             The World's Telephones\n",
       "ability.cov             Ability and Intelligence Tests\n",
       "airmiles                Passenger Miles on Commercial US Airlines,\n",
       "                        1937-1960\n",
       "airquality              New York Air Quality Measurements\n",
       "anscombe                Anscombe's Quartet of 'Identical' Simple Linear\n",
       "                        Regressions\n",
       "attenu                  The Joyner-Boore Attenuation Data\n",
       "attitude                The Chatterjee-Price Attitude Data\n",
       "austres                 Quarterly Time Series of the Number of\n",
       "                        Australian Residents\n",
       "beaver1 (beavers)       Body Temperature Series of Two Beavers\n",
       "beaver2 (beavers)       Body Temperature Series of Two Beavers\n",
       "cars                    Speed and Stopping Distances of Cars\n",
       "chickwts                Chicken Weights by Feed Type\n",
       "co2                     Mauna Loa Atmospheric CO2 Concentration\n",
       "crimtab                 Student's 3000 Criminals Data\n",
       "discoveries             Yearly Numbers of Important Discoveries\n",
       "esoph                   Smoking, Alcohol and (O)esophageal Cancer\n",
       "euro                    Conversion Rates of Euro Currencies\n",
       "euro.cross (euro)       Conversion Rates of Euro Currencies\n",
       "eurodist                Distances Between European Cities and Between\n",
       "                        US Cities\n",
       "faithful                Old Faithful Geyser Data\n",
       "fdeaths (UKLungDeaths)\n",
       "                        Monthly Deaths from Lung Diseases in the UK\n",
       "freeny                  Freeny's Revenue Data\n",
       "freeny.x (freeny)       Freeny's Revenue Data\n",
       "freeny.y (freeny)       Freeny's Revenue Data\n",
       "infert                  Infertility after Spontaneous and Induced\n",
       "                        Abortion\n",
       "iris                    Edgar Anderson's Iris Data\n",
       "iris3                   Edgar Anderson's Iris Data\n",
       "islands                 Areas of the World's Major Landmasses\n",
       "ldeaths (UKLungDeaths)\n",
       "                        Monthly Deaths from Lung Diseases in the UK\n",
       "lh                      Luteinizing Hormone in Blood Samples\n",
       "longley                 Longley's Economic Regression Data\n",
       "lynx                    Annual Canadian Lynx trappings 1821-1934\n",
       "mdeaths (UKLungDeaths)\n",
       "                        Monthly Deaths from Lung Diseases in the UK\n",
       "morley                  Michelson Speed of Light Data\n",
       "mtcars                  Motor Trend Car Road Tests\n",
       "nhtemp                  Average Yearly Temperatures in New Haven\n",
       "nottem                  Average Monthly Temperatures at Nottingham,\n",
       "                        1920-1939\n",
       "npk                     Classical N, P, K Factorial Experiment\n",
       "occupationalStatus      Occupational Status of Fathers and their Sons\n",
       "precip                  Annual Precipitation in US Cities\n",
       "presidents              Quarterly Approval Ratings of US Presidents\n",
       "pressure                Vapor Pressure of Mercury as a Function of\n",
       "                        Temperature\n",
       "quakes                  Locations of Earthquakes off Fiji\n",
       "randu                   Random Numbers from Congruential Generator\n",
       "                        RANDU\n",
       "rivers                  Lengths of Major North American Rivers\n",
       "rock                    Measurements on Petroleum Rock Samples\n",
       "sleep                   Student's Sleep Data\n",
       "stack.loss (stackloss)\n",
       "                        Brownlee's Stack Loss Plant Data\n",
       "stack.x (stackloss)     Brownlee's Stack Loss Plant Data\n",
       "stackloss               Brownlee's Stack Loss Plant Data\n",
       "state.abb (state)       US State Facts and Figures\n",
       "state.area (state)      US State Facts and Figures\n",
       "state.center (state)    US State Facts and Figures\n",
       "state.division (state)\n",
       "                        US State Facts and Figures\n",
       "state.name (state)      US State Facts and Figures\n",
       "state.region (state)    US State Facts and Figures\n",
       "state.x77 (state)       US State Facts and Figures\n",
       "sunspot.month           Monthly Sunspot Data, from 1749 to \"Present\"\n",
       "sunspot.year            Yearly Sunspot Data, 1700-1988\n",
       "sunspots                Monthly Sunspot Numbers, 1749-1983\n",
       "swiss                   Swiss Fertility and Socioeconomic Indicators\n",
       "                        (1888) Data\n",
       "treering                Yearly Treering Data, -6000-1979\n",
       "trees                   Girth, Height and Volume for Black Cherry Trees\n",
       "uspop                   Populations Recorded by the US Census\n",
       "volcano                 Topographic Information on Auckland's Maunga\n",
       "                        Whau Volcano\n",
       "warpbreaks              The Number of Breaks in Yarn during Weaving\n",
       "women                   Average Heights and Weights for American Women\n",
       "\n",
       "Use 'data(package = .packages(all.available = TRUE))'\n",
       "to list the data sets in all *available* packages."
      ]
     },
     "metadata": {},
     "output_type": "display_data"
    }
   ],
   "source": [
    "data()"
   ]
  },
  {
   "cell_type": "code",
   "execution_count": 41,
   "metadata": {
    "collapsed": false
   },
   "outputs": [
    {
     "data": {
      "text/html": [
       "<table>\n",
       "<thead><tr><th></th><th scope=col>Population</th><th scope=col>Income</th><th scope=col>Illiteracy</th><th scope=col>Life Exp</th><th scope=col>Murder</th><th scope=col>HS Grad</th><th scope=col>Frost</th><th scope=col>Area</th></tr></thead>\n",
       "<tbody>\n",
       "\t<tr><th scope=row>Alabama</th><td> 3615.00</td><td> 3624.00</td><td>    2.10</td><td>   69.05</td><td>   15.10</td><td>   41.30</td><td>   20.00</td><td>50708.00</td></tr>\n",
       "\t<tr><th scope=row>Alaska</th><td>   365.00</td><td>  6315.00</td><td>     1.50</td><td>    69.31</td><td>    11.30</td><td>    66.70</td><td>   152.00</td><td>566432.00</td></tr>\n",
       "\t<tr><th scope=row>Arizona</th><td>  2212.00</td><td>  4530.00</td><td>     1.80</td><td>    70.55</td><td>     7.80</td><td>    58.10</td><td>    15.00</td><td>113417.00</td></tr>\n",
       "</tbody>\n",
       "</table>\n"
      ],
      "text/latex": [
       "\\begin{tabular}{r|llllllll}\n",
       "  & Population & Income & Illiteracy & Life Exp & Murder & HS Grad & Frost & Area\\\\\n",
       "\\hline\n",
       "\tAlabama &  3615.00 &  3624.00 &     2.10 &    69.05 &    15.10 &    41.30 &    20.00 & 50708.00\\\\\n",
       "\tAlaska &    365.00 &   6315.00 &      1.50 &     69.31 &     11.30 &     66.70 &    152.00 & 566432.00\\\\\n",
       "\tArizona &   2212.00 &   4530.00 &      1.80 &     70.55 &      7.80 &     58.10 &     15.00 & 113417.00\\\\\n",
       "\\end{tabular}\n"
      ],
      "text/markdown": [
       "1. 3615\n",
       "2. 365\n",
       "3. 2212\n",
       "4. 3624\n",
       "5. 6315\n",
       "6. 4530\n",
       "7. 2.1\n",
       "8. 1.5\n",
       "9. 1.8\n",
       "10. 69.05\n",
       "11. 69.31\n",
       "12. 70.55\n",
       "13. 15.1\n",
       "14. 11.3\n",
       "15. 7.8\n",
       "16. 41.3\n",
       "17. 66.7\n",
       "18. 58.1\n",
       "19. 20\n",
       "20. 152\n",
       "21. 15\n",
       "22. 50708\n",
       "23. 566432\n",
       "24. 113417\n",
       "\n",
       "\n"
      ],
      "text/plain": [
       "        Population Income Illiteracy Life Exp Murder HS Grad Frost   Area\n",
       "Alabama       3615   3624        2.1    69.05   15.1    41.3    20  50708\n",
       "Alaska         365   6315        1.5    69.31   11.3    66.7   152 566432\n",
       "Arizona       2212   4530        1.8    70.55    7.8    58.1    15 113417"
      ]
     },
     "metadata": {},
     "output_type": "display_data"
    },
    {
     "data": {
      "text/html": [
       "<table>\n",
       "<thead><tr><th></th><th scope=col>Population</th><th scope=col>Income</th><th scope=col>Illiteracy</th><th scope=col>Life Exp</th><th scope=col>Murder</th><th scope=col>HS Grad</th><th scope=col>Frost</th><th scope=col>Area</th></tr></thead>\n",
       "<tbody>\n",
       "\t<tr><th scope=row>West Virginia</th><td> 1799.00</td><td> 3617.00</td><td>    1.40</td><td>   69.48</td><td>    6.70</td><td>   41.60</td><td>  100.00</td><td>24070.00</td></tr>\n",
       "\t<tr><th scope=row>Wisconsin</th><td> 4589.00</td><td> 4468.00</td><td>    0.70</td><td>   72.48</td><td>    3.00</td><td>   54.50</td><td>  149.00</td><td>54464.00</td></tr>\n",
       "\t<tr><th scope=row>Wyoming</th><td>  376.00</td><td> 4566.00</td><td>    0.60</td><td>   70.29</td><td>    6.90</td><td>   62.90</td><td>  173.00</td><td>97203.00</td></tr>\n",
       "</tbody>\n",
       "</table>\n"
      ],
      "text/latex": [
       "\\begin{tabular}{r|llllllll}\n",
       "  & Population & Income & Illiteracy & Life Exp & Murder & HS Grad & Frost & Area\\\\\n",
       "\\hline\n",
       "\tWest Virginia &  1799.00 &  3617.00 &     1.40 &    69.48 &     6.70 &    41.60 &   100.00 & 24070.00\\\\\n",
       "\tWisconsin &  4589.00 &  4468.00 &     0.70 &    72.48 &     3.00 &    54.50 &   149.00 & 54464.00\\\\\n",
       "\tWyoming &   376.00 &  4566.00 &     0.60 &    70.29 &     6.90 &    62.90 &   173.00 & 97203.00\\\\\n",
       "\\end{tabular}\n"
      ],
      "text/markdown": [
       "1. 1799\n",
       "2. 4589\n",
       "3. 376\n",
       "4. 3617\n",
       "5. 4468\n",
       "6. 4566\n",
       "7. 1.4\n",
       "8. 0.7\n",
       "9. 0.6\n",
       "10. 69.48\n",
       "11. 72.48\n",
       "12. 70.29\n",
       "13. 6.7\n",
       "14. 3\n",
       "15. 6.9\n",
       "16. 41.6\n",
       "17. 54.5\n",
       "18. 62.9\n",
       "19. 100\n",
       "20. 149\n",
       "21. 173\n",
       "22. 24070\n",
       "23. 54464\n",
       "24. 97203\n",
       "\n",
       "\n"
      ],
      "text/plain": [
       "              Population Income Illiteracy Life Exp Murder HS Grad Frost  Area\n",
       "West Virginia       1799   3617        1.4    69.48    6.7    41.6   100 24070\n",
       "Wisconsin           4589   4468        0.7    72.48    3.0    54.5   149 54464\n",
       "Wyoming              376   4566        0.6    70.29    6.9    62.9   173 97203"
      ]
     },
     "metadata": {},
     "output_type": "display_data"
    }
   ],
   "source": [
    "states <- state.x77\n",
    "head(states,3)\n",
    "tail(states,3)"
   ]
  },
  {
   "cell_type": "code",
   "execution_count": 42,
   "metadata": {
    "collapsed": false
   },
   "outputs": [
    {
     "data": {
      "text/plain": [
       "   Population        Income       Illiteracy       Life Exp    \n",
       " Min.   :  365   Min.   :3098   Min.   :0.500   Min.   :67.96  \n",
       " 1st Qu.: 1080   1st Qu.:3993   1st Qu.:0.625   1st Qu.:70.12  \n",
       " Median : 2838   Median :4519   Median :0.950   Median :70.67  \n",
       " Mean   : 4246   Mean   :4436   Mean   :1.170   Mean   :70.88  \n",
       " 3rd Qu.: 4968   3rd Qu.:4814   3rd Qu.:1.575   3rd Qu.:71.89  \n",
       " Max.   :21198   Max.   :6315   Max.   :2.800   Max.   :73.60  \n",
       "     Murder          HS Grad          Frost             Area       \n",
       " Min.   : 1.400   Min.   :37.80   Min.   :  0.00   Min.   :  1049  \n",
       " 1st Qu.: 4.350   1st Qu.:48.05   1st Qu.: 66.25   1st Qu.: 36985  \n",
       " Median : 6.850   Median :53.25   Median :114.50   Median : 54277  \n",
       " Mean   : 7.378   Mean   :53.11   Mean   :104.46   Mean   : 70736  \n",
       " 3rd Qu.:10.675   3rd Qu.:59.15   3rd Qu.:139.75   3rd Qu.: 81163  \n",
       " Max.   :15.100   Max.   :67.30   Max.   :188.00   Max.   :566432  "
      ]
     },
     "metadata": {},
     "output_type": "display_data"
    }
   ],
   "source": [
    "summary(states)"
   ]
  },
  {
   "cell_type": "code",
   "execution_count": 43,
   "metadata": {
    "collapsed": false
   },
   "outputs": [
    {
     "data": {
      "text/html": [
       "<table>\n",
       "<thead><tr><th></th><th scope=col>days</th><th scope=col>temp</th><th scope=col>rain</th></tr></thead>\n",
       "<tbody>\n",
       "\t<tr><th scope=row>1</th><td>mon </td><td>22.2</td><td>1   </td></tr>\n",
       "\t<tr><th scope=row>2</th><td>tue</td><td>21 </td><td>1  </td></tr>\n",
       "\t<tr><th scope=row>3</th><td>wed</td><td>23 </td><td>0  </td></tr>\n",
       "\t<tr><th scope=row>4</th><td>thu </td><td>24.3</td><td>0   </td></tr>\n",
       "\t<tr><th scope=row>5</th><td>fri</td><td>25 </td><td>1  </td></tr>\n",
       "</tbody>\n",
       "</table>\n"
      ],
      "text/latex": [
       "\\begin{tabular}{r|lll}\n",
       "  & days & temp & rain\\\\\n",
       "\\hline\n",
       "\t1 & mon  & 22.2 & 1   \\\\\n",
       "\t2 & tue & 21  & 1  \\\\\n",
       "\t3 & wed & 23  & 0  \\\\\n",
       "\t4 & thu  & 24.3 & 0   \\\\\n",
       "\t5 & fri & 25  & 1  \\\\\n",
       "\\end{tabular}\n"
      ],
      "text/plain": [
       "  days temp  rain\n",
       "1  mon 22.2  TRUE\n",
       "2  tue 21.0  TRUE\n",
       "3  wed 23.0 FALSE\n",
       "4  thu 24.3 FALSE\n",
       "5  fri 25.0  TRUE"
      ]
     },
     "metadata": {},
     "output_type": "display_data"
    },
    {
     "data": {
      "text/html": [
       "<table>\n",
       "<thead><tr><th></th><th scope=col>days</th><th scope=col>rain</th></tr></thead>\n",
       "<tbody>\n",
       "\t<tr><th scope=row>1</th><td>mon</td><td>1  </td></tr>\n",
       "\t<tr><th scope=row>3</th><td>wed</td><td>0  </td></tr>\n",
       "\t<tr><th scope=row>5</th><td>fri</td><td>1  </td></tr>\n",
       "</tbody>\n",
       "</table>\n"
      ],
      "text/latex": [
       "\\begin{tabular}{r|ll}\n",
       "  & days & rain\\\\\n",
       "\\hline\n",
       "\t1 & mon & 1  \\\\\n",
       "\t3 & wed & 0  \\\\\n",
       "\t5 & fri & 1  \\\\\n",
       "\\end{tabular}\n"
      ],
      "text/plain": [
       "  days  rain\n",
       "1  mon  TRUE\n",
       "3  wed FALSE\n",
       "5  fri  TRUE"
      ]
     },
     "metadata": {},
     "output_type": "display_data"
    },
    {
     "data": {
      "text/html": [
       "<ol class=list-inline>\n",
       "\t<li>TRUE</li>\n",
       "\t<li>TRUE</li>\n",
       "\t<li>FALSE</li>\n",
       "\t<li>FALSE</li>\n",
       "\t<li>TRUE</li>\n",
       "</ol>\n"
      ],
      "text/latex": [
       "\\begin{enumerate*}\n",
       "\\item TRUE\n",
       "\\item TRUE\n",
       "\\item FALSE\n",
       "\\item FALSE\n",
       "\\item TRUE\n",
       "\\end{enumerate*}\n"
      ],
      "text/markdown": [
       "1. TRUE\n",
       "2. TRUE\n",
       "3. FALSE\n",
       "4. FALSE\n",
       "5. TRUE\n",
       "\n",
       "\n"
      ],
      "text/plain": [
       "[1]  TRUE  TRUE FALSE FALSE  TRUE"
      ]
     },
     "metadata": {},
     "output_type": "display_data"
    },
    {
     "data": {
      "text/html": [
       "<table>\n",
       "<thead><tr><th></th><th scope=col>rain</th></tr></thead>\n",
       "<tbody>\n",
       "\t<tr><th scope=row>1</th><td>TRUE</td></tr>\n",
       "\t<tr><th scope=row>2</th><td>TRUE</td></tr>\n",
       "\t<tr><th scope=row>3</th><td>FALSE</td></tr>\n",
       "\t<tr><th scope=row>4</th><td>FALSE</td></tr>\n",
       "\t<tr><th scope=row>5</th><td>TRUE</td></tr>\n",
       "</tbody>\n",
       "</table>\n"
      ],
      "text/latex": [
       "\\begin{tabular}{r|l}\n",
       "  & rain\\\\\n",
       "\\hline\n",
       "\t1 & TRUE\\\\\n",
       "\t2 & TRUE\\\\\n",
       "\t3 & FALSE\\\\\n",
       "\t4 & FALSE\\\\\n",
       "\t5 & TRUE\\\\\n",
       "\\end{tabular}\n"
      ],
      "text/plain": [
       "   rain\n",
       "1  TRUE\n",
       "2  TRUE\n",
       "3 FALSE\n",
       "4 FALSE\n",
       "5  TRUE"
      ]
     },
     "metadata": {},
     "output_type": "display_data"
    },
    {
     "data": {
      "text/html": [
       "<table>\n",
       "<thead><tr><th></th><th scope=col>days</th><th scope=col>temp</th><th scope=col>rain</th></tr></thead>\n",
       "<tbody>\n",
       "\t<tr><th scope=row>5</th><td>fri</td><td>25 </td><td>1  </td></tr>\n",
       "</tbody>\n",
       "</table>\n"
      ],
      "text/latex": [
       "\\begin{tabular}{r|lll}\n",
       "  & days & temp & rain\\\\\n",
       "\\hline\n",
       "\t5 & fri & 25  & 1  \\\\\n",
       "\\end{tabular}\n"
      ],
      "text/plain": [
       "  days temp rain\n",
       "5  fri   25 TRUE"
      ]
     },
     "metadata": {},
     "output_type": "display_data"
    },
    {
     "data": {
      "text/html": [
       "<table>\n",
       "<thead><tr><th></th><th scope=col>days</th><th scope=col>temp</th><th scope=col>rain</th></tr></thead>\n",
       "<tbody>\n",
       "\t<tr><th scope=row>1</th><td>mon </td><td>22.2</td><td>1   </td></tr>\n",
       "\t<tr><th scope=row>2</th><td>tue</td><td>21 </td><td>1  </td></tr>\n",
       "\t<tr><th scope=row>5</th><td>fri</td><td>25 </td><td>1  </td></tr>\n",
       "</tbody>\n",
       "</table>\n"
      ],
      "text/latex": [
       "\\begin{tabular}{r|lll}\n",
       "  & days & temp & rain\\\\\n",
       "\\hline\n",
       "\t1 & mon  & 22.2 & 1   \\\\\n",
       "\t2 & tue & 21  & 1  \\\\\n",
       "\t5 & fri & 25  & 1  \\\\\n",
       "\\end{tabular}\n"
      ],
      "text/plain": [
       "  days temp rain\n",
       "1  mon 22.2 TRUE\n",
       "2  tue 21.0 TRUE\n",
       "5  fri 25.0 TRUE"
      ]
     },
     "metadata": {},
     "output_type": "display_data"
    }
   ],
   "source": [
    "days <- c('mon','tue','wed','thu','fri')\n",
    "temp <- c(22.2,21,23,24.3,25)\n",
    "rain <- c(TRUE, TRUE, FALSE, FALSE, TRUE)\n",
    "df <- data.frame(days,temp,rain)\n",
    "df\n",
    "df[c(1,3,5),c('days','rain')]\n",
    "df$rain\n",
    "df['rain']\n",
    "subset(df,subset= temp>23 & rain ==T)\n",
    "subset(df,subset= rain==T)"
   ]
  },
  {
   "cell_type": "code",
   "execution_count": 44,
   "metadata": {
    "collapsed": false
   },
   "outputs": [
    {
     "name": "stdout",
     "output_type": "stream",
     "text": [
      "'data.frame':\t5 obs. of  3 variables:\n",
      " $ days: Factor w/ 5 levels \"fri\",\"mon\",\"thu\",..: 2 4 5 3 1\n",
      " $ temp: num  22.2 21 23 24.3 25\n",
      " $ rain: logi  TRUE TRUE FALSE FALSE TRUE\n"
     ]
    },
    {
     "data": {
      "text/plain": [
       "  days        temp         rain        \n",
       " fri:1   Min.   :21.0   Mode :logical  \n",
       " mon:1   1st Qu.:22.2   FALSE:2        \n",
       " thu:1   Median :23.0   TRUE :3        \n",
       " tue:1   Mean   :23.1   NA's :0        \n",
       " wed:1   3rd Qu.:24.3                  \n",
       "         Max.   :25.0                  "
      ]
     },
     "metadata": {},
     "output_type": "display_data"
    }
   ],
   "source": [
    "# check structure and summary\n",
    "str(df)\n",
    "summary(df)"
   ]
  },
  {
   "cell_type": "code",
   "execution_count": 45,
   "metadata": {
    "collapsed": false
   },
   "outputs": [
    {
     "data": {
      "text/html": [
       "<table>\n",
       "<thead><tr><th></th><th scope=col>days</th><th scope=col>temp</th><th scope=col>rain</th></tr></thead>\n",
       "<tbody>\n",
       "\t<tr><th scope=row>2</th><td>tue</td><td>21 </td><td>1  </td></tr>\n",
       "\t<tr><th scope=row>1</th><td>mon </td><td>22.2</td><td>1   </td></tr>\n",
       "\t<tr><th scope=row>3</th><td>wed</td><td>23 </td><td>0  </td></tr>\n",
       "\t<tr><th scope=row>4</th><td>thu </td><td>24.3</td><td>0   </td></tr>\n",
       "\t<tr><th scope=row>5</th><td>fri</td><td>25 </td><td>1  </td></tr>\n",
       "</tbody>\n",
       "</table>\n"
      ],
      "text/latex": [
       "\\begin{tabular}{r|lll}\n",
       "  & days & temp & rain\\\\\n",
       "\\hline\n",
       "\t2 & tue & 21  & 1  \\\\\n",
       "\t1 & mon  & 22.2 & 1   \\\\\n",
       "\t3 & wed & 23  & 0  \\\\\n",
       "\t4 & thu  & 24.3 & 0   \\\\\n",
       "\t5 & fri & 25  & 1  \\\\\n",
       "\\end{tabular}\n"
      ],
      "text/plain": [
       "  days temp  rain\n",
       "2  tue 21.0  TRUE\n",
       "1  mon 22.2  TRUE\n",
       "3  wed 23.0 FALSE\n",
       "4  thu 24.3 FALSE\n",
       "5  fri 25.0  TRUE"
      ]
     },
     "metadata": {},
     "output_type": "display_data"
    },
    {
     "data": {
      "text/html": [
       "<table>\n",
       "<thead><tr><th></th><th scope=col>days</th><th scope=col>temp</th><th scope=col>rain</th></tr></thead>\n",
       "<tbody>\n",
       "\t<tr><th scope=row>5</th><td>fri</td><td>25 </td><td>1  </td></tr>\n",
       "\t<tr><th scope=row>4</th><td>thu </td><td>24.3</td><td>0   </td></tr>\n",
       "\t<tr><th scope=row>3</th><td>wed</td><td>23 </td><td>0  </td></tr>\n",
       "\t<tr><th scope=row>1</th><td>mon </td><td>22.2</td><td>1   </td></tr>\n",
       "\t<tr><th scope=row>2</th><td>tue</td><td>21 </td><td>1  </td></tr>\n",
       "</tbody>\n",
       "</table>\n"
      ],
      "text/latex": [
       "\\begin{tabular}{r|lll}\n",
       "  & days & temp & rain\\\\\n",
       "\\hline\n",
       "\t5 & fri & 25  & 1  \\\\\n",
       "\t4 & thu  & 24.3 & 0   \\\\\n",
       "\t3 & wed & 23  & 0  \\\\\n",
       "\t1 & mon  & 22.2 & 1   \\\\\n",
       "\t2 & tue & 21  & 1  \\\\\n",
       "\\end{tabular}\n"
      ],
      "text/plain": [
       "  days temp  rain\n",
       "5  fri 25.0  TRUE\n",
       "4  thu 24.3 FALSE\n",
       "3  wed 23.0 FALSE\n",
       "1  mon 22.2  TRUE\n",
       "2  tue 21.0  TRUE"
      ]
     },
     "metadata": {},
     "output_type": "display_data"
    }
   ],
   "source": [
    "sorted.temp <- order(df['temp'])\n",
    "df[sorted.temp,] #note the , after sorted.temp\n",
    "desc.temp <- order(-df$temp)  \n",
    "df[desc.temp,]"
   ]
  },
  {
   "cell_type": "code",
   "execution_count": 46,
   "metadata": {
    "collapsed": false
   },
   "outputs": [
    {
     "data": {
      "text/html": [
       "<table>\n",
       "<thead><tr><th></th></tr></thead>\n",
       "<tbody>\n",
       "</tbody>\n",
       "</table>\n"
      ],
      "text/latex": [
       "\\begin{tabular}{r|}\n",
       " \\\\\n",
       "\\hline\n",
       "\\end{tabular}\n"
      ],
      "text/plain": [
       "data frame with 0 columns and 0 rows"
      ]
     },
     "metadata": {},
     "output_type": "display_data"
    }
   ],
   "source": [
    "empty <- data.frame() # empty data frame\n",
    "empty"
   ]
  },
  {
   "cell_type": "code",
   "execution_count": 47,
   "metadata": {
    "collapsed": false
   },
   "outputs": [
    {
     "data": {
      "text/html": [
       "<table>\n",
       "<thead><tr><th></th><th scope=col>col.name.1</th><th scope=col>col.name.2</th></tr></thead>\n",
       "<tbody>\n",
       "\t<tr><th scope=row>1</th><td>1</td><td>a</td></tr>\n",
       "\t<tr><th scope=row>2</th><td>2</td><td>b</td></tr>\n",
       "\t<tr><th scope=row>3</th><td>3</td><td>c</td></tr>\n",
       "</tbody>\n",
       "</table>\n"
      ],
      "text/latex": [
       "\\begin{tabular}{r|ll}\n",
       "  & col.name.1 & col.name.2\\\\\n",
       "\\hline\n",
       "\t1 & 1 & a\\\\\n",
       "\t2 & 2 & b\\\\\n",
       "\t3 & 3 & c\\\\\n",
       "\\end{tabular}\n"
      ],
      "text/plain": [
       "  col.name.1 col.name.2\n",
       "1          1          a\n",
       "2          2          b\n",
       "3          3          c"
      ]
     },
     "metadata": {},
     "output_type": "display_data"
    },
    {
     "data": {
      "text/html": [
       "3"
      ],
      "text/latex": [
       "3"
      ],
      "text/markdown": [
       "3"
      ],
      "text/plain": [
       "[1] 3"
      ]
     },
     "metadata": {},
     "output_type": "display_data"
    },
    {
     "data": {
      "text/html": [
       "2"
      ],
      "text/latex": [
       "2"
      ],
      "text/markdown": [
       "2"
      ],
      "text/plain": [
       "[1] 2"
      ]
     },
     "metadata": {},
     "output_type": "display_data"
    },
    {
     "data": {
      "text/html": [
       "<ol class=list-inline>\n",
       "\t<li>\"col.name.1\"</li>\n",
       "\t<li>\"col.name.2\"</li>\n",
       "</ol>\n"
      ],
      "text/latex": [
       "\\begin{enumerate*}\n",
       "\\item \"col.name.1\"\n",
       "\\item \"col.name.2\"\n",
       "\\end{enumerate*}\n"
      ],
      "text/markdown": [
       "1. \"col.name.1\"\n",
       "2. \"col.name.2\"\n",
       "\n",
       "\n"
      ],
      "text/plain": [
       "[1] \"col.name.1\" \"col.name.2\""
      ]
     },
     "metadata": {},
     "output_type": "display_data"
    },
    {
     "data": {
      "text/html": [
       "<ol class=list-inline>\n",
       "\t<li>\"1\"</li>\n",
       "\t<li>\"2\"</li>\n",
       "\t<li>\"3\"</li>\n",
       "</ol>\n"
      ],
      "text/latex": [
       "\\begin{enumerate*}\n",
       "\\item \"1\"\n",
       "\\item \"2\"\n",
       "\\item \"3\"\n",
       "\\end{enumerate*}\n"
      ],
      "text/markdown": [
       "1. \"1\"\n",
       "2. \"2\"\n",
       "3. \"3\"\n",
       "\n",
       "\n"
      ],
      "text/plain": [
       "[1] \"1\" \"2\" \"3\""
      ]
     },
     "metadata": {},
     "output_type": "display_data"
    }
   ],
   "source": [
    "c1 <- 1:3 # vector of integers\n",
    "c2 <- letters[1:3] # vector of strings\n",
    "df <- data.frame(col.name.1=c1,col.name.2=c2)\n",
    "df\n",
    "nrow(df)\n",
    "ncol(df)\n",
    "colnames(df)\n",
    "rownames(df)"
   ]
  },
  {
   "cell_type": "code",
   "execution_count": 48,
   "metadata": {
    "collapsed": false
   },
   "outputs": [
    {
     "data": {
      "text/html": [
       "<table>\n",
       "<thead><tr><th></th><th scope=col>col.name.1</th><th scope=col>col.name.2</th></tr></thead>\n",
       "<tbody>\n",
       "\t<tr><th scope=row>1</th><td>1</td><td>a</td></tr>\n",
       "</tbody>\n",
       "</table>\n"
      ],
      "text/latex": [
       "\\begin{tabular}{r|ll}\n",
       "  & col.name.1 & col.name.2\\\\\n",
       "\\hline\n",
       "\t1 & 1 & a\\\\\n",
       "\\end{tabular}\n"
      ],
      "text/plain": [
       "  col.name.1 col.name.2\n",
       "1          1          a"
      ]
     },
     "metadata": {},
     "output_type": "display_data"
    },
    {
     "data": {
      "text/html": [
       "<ol class=list-inline>\n",
       "\t<li>1</li>\n",
       "\t<li>1</li>\n",
       "</ol>\n"
      ],
      "text/latex": [
       "\\begin{enumerate*}\n",
       "\\item 1\n",
       "\\item 1\n",
       "\\end{enumerate*}\n"
      ],
      "text/markdown": [
       "1. 1\n",
       "2. 1\n",
       "\n",
       "\n"
      ],
      "text/plain": [
       "[1] 1 1"
      ]
     },
     "metadata": {},
     "output_type": "display_data"
    }
   ],
   "source": [
    "df[1, ]\n",
    "as.numeric(as.vector(df[1,]))"
   ]
  },
  {
   "cell_type": "code",
   "execution_count": 49,
   "metadata": {
    "collapsed": false
   },
   "outputs": [
    {
     "data": {
      "text/html": [
       "<table>\n",
       "<thead><tr><th></th><th scope=col>mpg</th><th scope=col>cyl</th><th scope=col>disp</th><th scope=col>hp</th><th scope=col>drat</th><th scope=col>wt</th><th scope=col>qsec</th><th scope=col>vs</th><th scope=col>am</th><th scope=col>gear</th><th scope=col>carb</th></tr></thead>\n",
       "<tbody>\n",
       "\t<tr><th scope=row>Mazda RX4</th><td> 21.00</td><td>  6.00</td><td>160.00</td><td>110.00</td><td>  3.90</td><td>  2.62</td><td> 16.46</td><td>  0.00</td><td>  1.00</td><td>  4.00</td><td>  4.00</td></tr>\n",
       "\t<tr><th scope=row>Mazda RX4 Wag</th><td> 21.000</td><td>  6.000</td><td>160.000</td><td>110.000</td><td>  3.900</td><td>  2.875</td><td> 17.020</td><td>  0.000</td><td>  1.000</td><td>  4.000</td><td>  4.000</td></tr>\n",
       "\t<tr><th scope=row>Datsun 710</th><td> 22.80</td><td>  4.00</td><td>108.00</td><td> 93.00</td><td>  3.85</td><td>  2.32</td><td> 18.61</td><td>  1.00</td><td>  1.00</td><td>  4.00</td><td>  1.00</td></tr>\n",
       "\t<tr><th scope=row>Hornet 4 Drive</th><td> 21.400</td><td>  6.000</td><td>258.000</td><td>110.000</td><td>  3.080</td><td>  3.215</td><td> 19.440</td><td>  1.000</td><td>  0.000</td><td>  3.000</td><td>  1.000</td></tr>\n",
       "\t<tr><th scope=row>Hornet Sportabout</th><td> 18.70</td><td>  8.00</td><td>360.00</td><td>175.00</td><td>  3.15</td><td>  3.44</td><td> 17.02</td><td>  0.00</td><td>  0.00</td><td>  3.00</td><td>  2.00</td></tr>\n",
       "\t<tr><th scope=row>Valiant</th><td> 18.10</td><td>  6.00</td><td>225.00</td><td>105.00</td><td>  2.76</td><td>  3.46</td><td> 20.22</td><td>  1.00</td><td>  0.00</td><td>  3.00</td><td>  1.00</td></tr>\n",
       "</tbody>\n",
       "</table>\n"
      ],
      "text/latex": [
       "\\begin{tabular}{r|lllllllllll}\n",
       "  & mpg & cyl & disp & hp & drat & wt & qsec & vs & am & gear & carb\\\\\n",
       "\\hline\n",
       "\tMazda RX4 &  21.00 &   6.00 & 160.00 & 110.00 &   3.90 &   2.62 &  16.46 &   0.00 &   1.00 &   4.00 &   4.00\\\\\n",
       "\tMazda RX4 Wag &  21.000 &   6.000 & 160.000 & 110.000 &   3.900 &   2.875 &  17.020 &   0.000 &   1.000 &   4.000 &   4.000\\\\\n",
       "\tDatsun 710 &  22.80 &   4.00 & 108.00 &  93.00 &   3.85 &   2.32 &  18.61 &   1.00 &   1.00 &   4.00 &   1.00\\\\\n",
       "\tHornet 4 Drive &  21.400 &   6.000 & 258.000 & 110.000 &   3.080 &   3.215 &  19.440 &   1.000 &   0.000 &   3.000 &   1.000\\\\\n",
       "\tHornet Sportabout &  18.70 &   8.00 & 360.00 & 175.00 &   3.15 &   3.44 &  17.02 &   0.00 &   0.00 &   3.00 &   2.00\\\\\n",
       "\tValiant &  18.10 &   6.00 & 225.00 & 105.00 &   2.76 &   3.46 &  20.22 &   1.00 &   0.00 &   3.00 &   1.00\\\\\n",
       "\\end{tabular}\n"
      ],
      "text/plain": [
       "                   mpg cyl disp  hp drat    wt  qsec vs am gear carb\n",
       "Mazda RX4         21.0   6  160 110 3.90 2.620 16.46  0  1    4    4\n",
       "Mazda RX4 Wag     21.0   6  160 110 3.90 2.875 17.02  0  1    4    4\n",
       "Datsun 710        22.8   4  108  93 3.85 2.320 18.61  1  1    4    1\n",
       "Hornet 4 Drive    21.4   6  258 110 3.08 3.215 19.44  1  0    3    1\n",
       "Hornet Sportabout 18.7   8  360 175 3.15 3.440 17.02  0  0    3    2\n",
       "Valiant           18.1   6  225 105 2.76 3.460 20.22  1  0    3    1"
      ]
     },
     "metadata": {},
     "output_type": "display_data"
    }
   ],
   "source": [
    "cars <- mtcars\n",
    "head(cars)"
   ]
  },
  {
   "cell_type": "code",
   "execution_count": 50,
   "metadata": {
    "collapsed": false
   },
   "outputs": [
    {
     "data": {
      "text/html": [
       "<ol class=list-inline>\n",
       "\t<li>21</li>\n",
       "\t<li>21</li>\n",
       "\t<li>22.8</li>\n",
       "\t<li>21.4</li>\n",
       "\t<li>18.7</li>\n",
       "\t<li>18.1</li>\n",
       "\t<li>14.3</li>\n",
       "\t<li>24.4</li>\n",
       "\t<li>22.8</li>\n",
       "\t<li>19.2</li>\n",
       "\t<li>17.8</li>\n",
       "\t<li>16.4</li>\n",
       "\t<li>17.3</li>\n",
       "\t<li>15.2</li>\n",
       "\t<li>10.4</li>\n",
       "\t<li>10.4</li>\n",
       "\t<li>14.7</li>\n",
       "\t<li>32.4</li>\n",
       "\t<li>30.4</li>\n",
       "\t<li>33.9</li>\n",
       "\t<li>21.5</li>\n",
       "\t<li>15.5</li>\n",
       "\t<li>15.2</li>\n",
       "\t<li>13.3</li>\n",
       "\t<li>19.2</li>\n",
       "\t<li>27.3</li>\n",
       "\t<li>26</li>\n",
       "\t<li>30.4</li>\n",
       "\t<li>15.8</li>\n",
       "\t<li>19.7</li>\n",
       "\t<li>15</li>\n",
       "\t<li>21.4</li>\n",
       "</ol>\n"
      ],
      "text/latex": [
       "\\begin{enumerate*}\n",
       "\\item 21\n",
       "\\item 21\n",
       "\\item 22.8\n",
       "\\item 21.4\n",
       "\\item 18.7\n",
       "\\item 18.1\n",
       "\\item 14.3\n",
       "\\item 24.4\n",
       "\\item 22.8\n",
       "\\item 19.2\n",
       "\\item 17.8\n",
       "\\item 16.4\n",
       "\\item 17.3\n",
       "\\item 15.2\n",
       "\\item 10.4\n",
       "\\item 10.4\n",
       "\\item 14.7\n",
       "\\item 32.4\n",
       "\\item 30.4\n",
       "\\item 33.9\n",
       "\\item 21.5\n",
       "\\item 15.5\n",
       "\\item 15.2\n",
       "\\item 13.3\n",
       "\\item 19.2\n",
       "\\item 27.3\n",
       "\\item 26\n",
       "\\item 30.4\n",
       "\\item 15.8\n",
       "\\item 19.7\n",
       "\\item 15\n",
       "\\item 21.4\n",
       "\\end{enumerate*}\n"
      ],
      "text/markdown": [
       "1. 21\n",
       "2. 21\n",
       "3. 22.8\n",
       "4. 21.4\n",
       "5. 18.7\n",
       "6. 18.1\n",
       "7. 14.3\n",
       "8. 24.4\n",
       "9. 22.8\n",
       "10. 19.2\n",
       "11. 17.8\n",
       "12. 16.4\n",
       "13. 17.3\n",
       "14. 15.2\n",
       "15. 10.4\n",
       "16. 10.4\n",
       "17. 14.7\n",
       "18. 32.4\n",
       "19. 30.4\n",
       "20. 33.9\n",
       "21. 21.5\n",
       "22. 15.5\n",
       "23. 15.2\n",
       "24. 13.3\n",
       "25. 19.2\n",
       "26. 27.3\n",
       "27. 26\n",
       "28. 30.4\n",
       "29. 15.8\n",
       "30. 19.7\n",
       "31. 15\n",
       "32. 21.4\n",
       "\n",
       "\n"
      ],
      "text/plain": [
       " [1] 21.0 21.0 22.8 21.4 18.7 18.1 14.3 24.4 22.8 19.2 17.8 16.4 17.3 15.2 10.4\n",
       "[16] 10.4 14.7 32.4 30.4 33.9 21.5 15.5 15.2 13.3 19.2 27.3 26.0 30.4 15.8 19.7\n",
       "[31] 15.0 21.4"
      ]
     },
     "metadata": {},
     "output_type": "display_data"
    },
    {
     "data": {
      "text/html": [
       "<ol class=list-inline>\n",
       "\t<li>21</li>\n",
       "\t<li>21</li>\n",
       "\t<li>22.8</li>\n",
       "\t<li>21.4</li>\n",
       "\t<li>18.7</li>\n",
       "\t<li>18.1</li>\n",
       "\t<li>14.3</li>\n",
       "\t<li>24.4</li>\n",
       "\t<li>22.8</li>\n",
       "\t<li>19.2</li>\n",
       "\t<li>17.8</li>\n",
       "\t<li>16.4</li>\n",
       "\t<li>17.3</li>\n",
       "\t<li>15.2</li>\n",
       "\t<li>10.4</li>\n",
       "\t<li>10.4</li>\n",
       "\t<li>14.7</li>\n",
       "\t<li>32.4</li>\n",
       "\t<li>30.4</li>\n",
       "\t<li>33.9</li>\n",
       "\t<li>21.5</li>\n",
       "\t<li>15.5</li>\n",
       "\t<li>15.2</li>\n",
       "\t<li>13.3</li>\n",
       "\t<li>19.2</li>\n",
       "\t<li>27.3</li>\n",
       "\t<li>26</li>\n",
       "\t<li>30.4</li>\n",
       "\t<li>15.8</li>\n",
       "\t<li>19.7</li>\n",
       "\t<li>15</li>\n",
       "\t<li>21.4</li>\n",
       "</ol>\n"
      ],
      "text/latex": [
       "\\begin{enumerate*}\n",
       "\\item 21\n",
       "\\item 21\n",
       "\\item 22.8\n",
       "\\item 21.4\n",
       "\\item 18.7\n",
       "\\item 18.1\n",
       "\\item 14.3\n",
       "\\item 24.4\n",
       "\\item 22.8\n",
       "\\item 19.2\n",
       "\\item 17.8\n",
       "\\item 16.4\n",
       "\\item 17.3\n",
       "\\item 15.2\n",
       "\\item 10.4\n",
       "\\item 10.4\n",
       "\\item 14.7\n",
       "\\item 32.4\n",
       "\\item 30.4\n",
       "\\item 33.9\n",
       "\\item 21.5\n",
       "\\item 15.5\n",
       "\\item 15.2\n",
       "\\item 13.3\n",
       "\\item 19.2\n",
       "\\item 27.3\n",
       "\\item 26\n",
       "\\item 30.4\n",
       "\\item 15.8\n",
       "\\item 19.7\n",
       "\\item 15\n",
       "\\item 21.4\n",
       "\\end{enumerate*}\n"
      ],
      "text/markdown": [
       "1. 21\n",
       "2. 21\n",
       "3. 22.8\n",
       "4. 21.4\n",
       "5. 18.7\n",
       "6. 18.1\n",
       "7. 14.3\n",
       "8. 24.4\n",
       "9. 22.8\n",
       "10. 19.2\n",
       "11. 17.8\n",
       "12. 16.4\n",
       "13. 17.3\n",
       "14. 15.2\n",
       "15. 10.4\n",
       "16. 10.4\n",
       "17. 14.7\n",
       "18. 32.4\n",
       "19. 30.4\n",
       "20. 33.9\n",
       "21. 21.5\n",
       "22. 15.5\n",
       "23. 15.2\n",
       "24. 13.3\n",
       "25. 19.2\n",
       "26. 27.3\n",
       "27. 26\n",
       "28. 30.4\n",
       "29. 15.8\n",
       "30. 19.7\n",
       "31. 15\n",
       "32. 21.4\n",
       "\n",
       "\n"
      ],
      "text/plain": [
       " [1] 21.0 21.0 22.8 21.4 18.7 18.1 14.3 24.4 22.8 19.2 17.8 16.4 17.3 15.2 10.4\n",
       "[16] 10.4 14.7 32.4 30.4 33.9 21.5 15.5 15.2 13.3 19.2 27.3 26.0 30.4 15.8 19.7\n",
       "[31] 15.0 21.4"
      ]
     },
     "metadata": {},
     "output_type": "display_data"
    },
    {
     "data": {
      "text/html": [
       "<ol class=list-inline>\n",
       "\t<li>21</li>\n",
       "\t<li>21</li>\n",
       "\t<li>22.8</li>\n",
       "\t<li>21.4</li>\n",
       "\t<li>18.7</li>\n",
       "\t<li>18.1</li>\n",
       "\t<li>14.3</li>\n",
       "\t<li>24.4</li>\n",
       "\t<li>22.8</li>\n",
       "\t<li>19.2</li>\n",
       "\t<li>17.8</li>\n",
       "\t<li>16.4</li>\n",
       "\t<li>17.3</li>\n",
       "\t<li>15.2</li>\n",
       "\t<li>10.4</li>\n",
       "\t<li>10.4</li>\n",
       "\t<li>14.7</li>\n",
       "\t<li>32.4</li>\n",
       "\t<li>30.4</li>\n",
       "\t<li>33.9</li>\n",
       "\t<li>21.5</li>\n",
       "\t<li>15.5</li>\n",
       "\t<li>15.2</li>\n",
       "\t<li>13.3</li>\n",
       "\t<li>19.2</li>\n",
       "\t<li>27.3</li>\n",
       "\t<li>26</li>\n",
       "\t<li>30.4</li>\n",
       "\t<li>15.8</li>\n",
       "\t<li>19.7</li>\n",
       "\t<li>15</li>\n",
       "\t<li>21.4</li>\n",
       "</ol>\n"
      ],
      "text/latex": [
       "\\begin{enumerate*}\n",
       "\\item 21\n",
       "\\item 21\n",
       "\\item 22.8\n",
       "\\item 21.4\n",
       "\\item 18.7\n",
       "\\item 18.1\n",
       "\\item 14.3\n",
       "\\item 24.4\n",
       "\\item 22.8\n",
       "\\item 19.2\n",
       "\\item 17.8\n",
       "\\item 16.4\n",
       "\\item 17.3\n",
       "\\item 15.2\n",
       "\\item 10.4\n",
       "\\item 10.4\n",
       "\\item 14.7\n",
       "\\item 32.4\n",
       "\\item 30.4\n",
       "\\item 33.9\n",
       "\\item 21.5\n",
       "\\item 15.5\n",
       "\\item 15.2\n",
       "\\item 13.3\n",
       "\\item 19.2\n",
       "\\item 27.3\n",
       "\\item 26\n",
       "\\item 30.4\n",
       "\\item 15.8\n",
       "\\item 19.7\n",
       "\\item 15\n",
       "\\item 21.4\n",
       "\\end{enumerate*}\n"
      ],
      "text/markdown": [
       "1. 21\n",
       "2. 21\n",
       "3. 22.8\n",
       "4. 21.4\n",
       "5. 18.7\n",
       "6. 18.1\n",
       "7. 14.3\n",
       "8. 24.4\n",
       "9. 22.8\n",
       "10. 19.2\n",
       "11. 17.8\n",
       "12. 16.4\n",
       "13. 17.3\n",
       "14. 15.2\n",
       "15. 10.4\n",
       "16. 10.4\n",
       "17. 14.7\n",
       "18. 32.4\n",
       "19. 30.4\n",
       "20. 33.9\n",
       "21. 21.5\n",
       "22. 15.5\n",
       "23. 15.2\n",
       "24. 13.3\n",
       "25. 19.2\n",
       "26. 27.3\n",
       "27. 26\n",
       "28. 30.4\n",
       "29. 15.8\n",
       "30. 19.7\n",
       "31. 15\n",
       "32. 21.4\n",
       "\n",
       "\n"
      ],
      "text/plain": [
       " [1] 21.0 21.0 22.8 21.4 18.7 18.1 14.3 24.4 22.8 19.2 17.8 16.4 17.3 15.2 10.4\n",
       "[16] 10.4 14.7 32.4 30.4 33.9 21.5 15.5 15.2 13.3 19.2 27.3 26.0 30.4 15.8 19.7\n",
       "[31] 15.0 21.4"
      ]
     },
     "metadata": {},
     "output_type": "display_data"
    },
    {
     "data": {
      "text/html": [
       "<ol class=list-inline>\n",
       "\t<li>21</li>\n",
       "\t<li>21</li>\n",
       "\t<li>22.8</li>\n",
       "\t<li>21.4</li>\n",
       "\t<li>18.7</li>\n",
       "\t<li>18.1</li>\n",
       "\t<li>14.3</li>\n",
       "\t<li>24.4</li>\n",
       "\t<li>22.8</li>\n",
       "\t<li>19.2</li>\n",
       "\t<li>17.8</li>\n",
       "\t<li>16.4</li>\n",
       "\t<li>17.3</li>\n",
       "\t<li>15.2</li>\n",
       "\t<li>10.4</li>\n",
       "\t<li>10.4</li>\n",
       "\t<li>14.7</li>\n",
       "\t<li>32.4</li>\n",
       "\t<li>30.4</li>\n",
       "\t<li>33.9</li>\n",
       "\t<li>21.5</li>\n",
       "\t<li>15.5</li>\n",
       "\t<li>15.2</li>\n",
       "\t<li>13.3</li>\n",
       "\t<li>19.2</li>\n",
       "\t<li>27.3</li>\n",
       "\t<li>26</li>\n",
       "\t<li>30.4</li>\n",
       "\t<li>15.8</li>\n",
       "\t<li>19.7</li>\n",
       "\t<li>15</li>\n",
       "\t<li>21.4</li>\n",
       "</ol>\n"
      ],
      "text/latex": [
       "\\begin{enumerate*}\n",
       "\\item 21\n",
       "\\item 21\n",
       "\\item 22.8\n",
       "\\item 21.4\n",
       "\\item 18.7\n",
       "\\item 18.1\n",
       "\\item 14.3\n",
       "\\item 24.4\n",
       "\\item 22.8\n",
       "\\item 19.2\n",
       "\\item 17.8\n",
       "\\item 16.4\n",
       "\\item 17.3\n",
       "\\item 15.2\n",
       "\\item 10.4\n",
       "\\item 10.4\n",
       "\\item 14.7\n",
       "\\item 32.4\n",
       "\\item 30.4\n",
       "\\item 33.9\n",
       "\\item 21.5\n",
       "\\item 15.5\n",
       "\\item 15.2\n",
       "\\item 13.3\n",
       "\\item 19.2\n",
       "\\item 27.3\n",
       "\\item 26\n",
       "\\item 30.4\n",
       "\\item 15.8\n",
       "\\item 19.7\n",
       "\\item 15\n",
       "\\item 21.4\n",
       "\\end{enumerate*}\n"
      ],
      "text/markdown": [
       "1. 21\n",
       "2. 21\n",
       "3. 22.8\n",
       "4. 21.4\n",
       "5. 18.7\n",
       "6. 18.1\n",
       "7. 14.3\n",
       "8. 24.4\n",
       "9. 22.8\n",
       "10. 19.2\n",
       "11. 17.8\n",
       "12. 16.4\n",
       "13. 17.3\n",
       "14. 15.2\n",
       "15. 10.4\n",
       "16. 10.4\n",
       "17. 14.7\n",
       "18. 32.4\n",
       "19. 30.4\n",
       "20. 33.9\n",
       "21. 21.5\n",
       "22. 15.5\n",
       "23. 15.2\n",
       "24. 13.3\n",
       "25. 19.2\n",
       "26. 27.3\n",
       "27. 26\n",
       "28. 30.4\n",
       "29. 15.8\n",
       "30. 19.7\n",
       "31. 15\n",
       "32. 21.4\n",
       "\n",
       "\n"
      ],
      "text/plain": [
       " [1] 21.0 21.0 22.8 21.4 18.7 18.1 14.3 24.4 22.8 19.2 17.8 16.4 17.3 15.2 10.4\n",
       "[16] 10.4 14.7 32.4 30.4 33.9 21.5 15.5 15.2 13.3 19.2 27.3 26.0 30.4 15.8 19.7\n",
       "[31] 15.0 21.4"
      ]
     },
     "metadata": {},
     "output_type": "display_data"
    }
   ],
   "source": [
    "colv1 <- cars$mpg # returns a vector\n",
    "colv1\n",
    "colv2 <- cars[, 'mpg'] # returns vector\n",
    "colv2\n",
    "colv3<- cars[, 1] # a is int or string\n",
    "colv3\n",
    "colv4 <- cars[['mpg']] # returns a vector\n",
    "colv4"
   ]
  },
  {
   "cell_type": "code",
   "execution_count": 51,
   "metadata": {
    "collapsed": false
   },
   "outputs": [
    {
     "data": {
      "text/html": [
       "<table>\n",
       "<thead><tr><th></th><th scope=col>col.name.1</th><th scope=col>col.name.2</th></tr></thead>\n",
       "<tbody>\n",
       "\t<tr><th scope=row>1</th><td>2000</td><td>new </td></tr>\n",
       "</tbody>\n",
       "</table>\n"
      ],
      "text/latex": [
       "\\begin{tabular}{r|ll}\n",
       "  & col.name.1 & col.name.2\\\\\n",
       "\\hline\n",
       "\t1 & 2000 & new \\\\\n",
       "\\end{tabular}\n"
      ],
      "text/plain": [
       "  col.name.1 col.name.2\n",
       "1       2000        new"
      ]
     },
     "metadata": {},
     "output_type": "display_data"
    },
    {
     "data": {
      "text/html": [
       "<table>\n",
       "<thead><tr><th></th><th scope=col>col.name.1</th><th scope=col>col.name.2</th></tr></thead>\n",
       "<tbody>\n",
       "\t<tr><th scope=row>1</th><td>1</td><td>a</td></tr>\n",
       "\t<tr><th scope=row>2</th><td>2</td><td>b</td></tr>\n",
       "\t<tr><th scope=row>3</th><td>3</td><td>c</td></tr>\n",
       "</tbody>\n",
       "</table>\n"
      ],
      "text/latex": [
       "\\begin{tabular}{r|ll}\n",
       "  & col.name.1 & col.name.2\\\\\n",
       "\\hline\n",
       "\t1 & 1 & a\\\\\n",
       "\t2 & 2 & b\\\\\n",
       "\t3 & 3 & c\\\\\n",
       "\\end{tabular}\n"
      ],
      "text/plain": [
       "  col.name.1 col.name.2\n",
       "1          1          a\n",
       "2          2          b\n",
       "3          3          c"
      ]
     },
     "metadata": {},
     "output_type": "display_data"
    },
    {
     "data": {
      "text/html": [
       "<table>\n",
       "<thead><tr><th></th><th scope=col>col.name.1</th><th scope=col>col.name.2</th></tr></thead>\n",
       "<tbody>\n",
       "\t<tr><th scope=row>1</th><td>1</td><td>a</td></tr>\n",
       "\t<tr><th scope=row>2</th><td>2</td><td>b</td></tr>\n",
       "\t<tr><th scope=row>3</th><td>3</td><td>c</td></tr>\n",
       "\t<tr><th scope=row>4</th><td>2000</td><td>new </td></tr>\n",
       "</tbody>\n",
       "</table>\n"
      ],
      "text/latex": [
       "\\begin{tabular}{r|ll}\n",
       "  & col.name.1 & col.name.2\\\\\n",
       "\\hline\n",
       "\t1 & 1 & a\\\\\n",
       "\t2 & 2 & b\\\\\n",
       "\t3 & 3 & c\\\\\n",
       "\t4 & 2000 & new \\\\\n",
       "\\end{tabular}\n"
      ],
      "text/plain": [
       "  col.name.1 col.name.2\n",
       "1          1          a\n",
       "2          2          b\n",
       "3          3          c\n",
       "4       2000        new"
      ]
     },
     "metadata": {},
     "output_type": "display_data"
    }
   ],
   "source": [
    "df2 <- data.frame(col.name.1=2000,col.name.2='new' )\n",
    "df2\n",
    "df\n",
    "dfnew <- rbind(df,df2)\n",
    "dfnew"
   ]
  },
  {
   "cell_type": "code",
   "execution_count": 52,
   "metadata": {
    "collapsed": false
   },
   "outputs": [
    {
     "data": {
      "text/html": [
       "<table>\n",
       "<thead><tr><th></th><th scope=col>col.name.1</th><th scope=col>col.name.2</th><th scope=col>col1.times.2</th></tr></thead>\n",
       "<tbody>\n",
       "\t<tr><th scope=row>1</th><td>1</td><td>a</td><td>2</td></tr>\n",
       "\t<tr><th scope=row>2</th><td>2</td><td>b</td><td>4</td></tr>\n",
       "\t<tr><th scope=row>3</th><td>3</td><td>c</td><td>6</td></tr>\n",
       "</tbody>\n",
       "</table>\n"
      ],
      "text/latex": [
       "\\begin{tabular}{r|lll}\n",
       "  & col.name.1 & col.name.2 & col1.times.2\\\\\n",
       "\\hline\n",
       "\t1 & 1 & a & 2\\\\\n",
       "\t2 & 2 & b & 4\\\\\n",
       "\t3 & 3 & c & 6\\\\\n",
       "\\end{tabular}\n"
      ],
      "text/plain": [
       "  col.name.1 col.name.2 col1.times.2\n",
       "1          1          a            2\n",
       "2          2          b            4\n",
       "3          3          c            6"
      ]
     },
     "metadata": {},
     "output_type": "display_data"
    }
   ],
   "source": [
    "df[['col1.times.2']] <- df$col.name.1 * 2\n",
    "df"
   ]
  },
  {
   "cell_type": "code",
   "execution_count": 53,
   "metadata": {
    "collapsed": false
   },
   "outputs": [
    {
     "data": {
      "text/html": [
       "<table>\n",
       "<thead><tr><th></th><th scope=col>col.name.1</th><th scope=col>col.name.2</th><th scope=col>col1.times.2</th><th scope=col>copy.of.col2</th></tr></thead>\n",
       "<tbody>\n",
       "\t<tr><th scope=row>1</th><td>1</td><td>a</td><td>2</td><td>a</td></tr>\n",
       "\t<tr><th scope=row>2</th><td>2</td><td>b</td><td>4</td><td>b</td></tr>\n",
       "\t<tr><th scope=row>3</th><td>3</td><td>c</td><td>6</td><td>c</td></tr>\n",
       "</tbody>\n",
       "</table>\n"
      ],
      "text/latex": [
       "\\begin{tabular}{r|llll}\n",
       "  & col.name.1 & col.name.2 & col1.times.2 & copy.of.col2\\\\\n",
       "\\hline\n",
       "\t1 & 1 & a & 2 & a\\\\\n",
       "\t2 & 2 & b & 4 & b\\\\\n",
       "\t3 & 3 & c & 6 & c\\\\\n",
       "\\end{tabular}\n"
      ],
      "text/plain": [
       "  col.name.1 col.name.2 col1.times.2 copy.of.col2\n",
       "1          1          a            2            a\n",
       "2          2          b            4            b\n",
       "3          3          c            6            c"
      ]
     },
     "metadata": {},
     "output_type": "display_data"
    }
   ],
   "source": [
    "df[, 'copy.of.col2'] <- df$col.name.2 # copy a col\n",
    "df"
   ]
  },
  {
   "cell_type": "code",
   "execution_count": 54,
   "metadata": {
    "collapsed": false
   },
   "outputs": [
    {
     "data": {
      "text/html": [
       "<table>\n",
       "<thead><tr><th></th><th scope=col>col.name.1</th><th scope=col>col.name.2</th><th scope=col>col1.times.2</th><th scope=col>copy.of.col2</th><th scope=col>df$col.name.1</th></tr></thead>\n",
       "<tbody>\n",
       "\t<tr><th scope=row>1</th><td>1</td><td>a</td><td>2</td><td>a</td><td>1</td></tr>\n",
       "\t<tr><th scope=row>2</th><td>2</td><td>b</td><td>4</td><td>b</td><td>2</td></tr>\n",
       "\t<tr><th scope=row>3</th><td>3</td><td>c</td><td>6</td><td>c</td><td>3</td></tr>\n",
       "</tbody>\n",
       "</table>\n"
      ],
      "text/latex": [
       "\\begin{tabular}{r|lllll}\n",
       "  & col.name.1 & col.name.2 & col1.times.2 & copy.of.col2 & df\\$col.name.1\\\\\n",
       "\\hline\n",
       "\t1 & 1 & a & 2 & a & 1\\\\\n",
       "\t2 & 2 & b & 4 & b & 2\\\\\n",
       "\t3 & 3 & c & 6 & c & 3\\\\\n",
       "\\end{tabular}\n"
      ],
      "text/plain": [
       "  col.name.1 col.name.2 col1.times.2 copy.of.col2 df$col.name.1\n",
       "1          1          a            2            a             1\n",
       "2          2          b            4            b             2\n",
       "3          3          c            6            c             3"
      ]
     },
     "metadata": {},
     "output_type": "display_data"
    }
   ],
   "source": [
    "df3 <- cbind(df, df$col.name.1)\n",
    "df3"
   ]
  },
  {
   "cell_type": "code",
   "execution_count": 55,
   "metadata": {
    "collapsed": false
   },
   "outputs": [
    {
     "data": {
      "text/html": [
       "<table>\n",
       "<thead><tr><th></th><th scope=col>col.name.1</th><th scope=col>SECOND COLUMN NEW NAME</th><th scope=col>col1.times.2</th><th scope=col>copy.of.col2</th></tr></thead>\n",
       "<tbody>\n",
       "\t<tr><th scope=row>1</th><td>1</td><td>a</td><td>2</td><td>a</td></tr>\n",
       "\t<tr><th scope=row>2</th><td>2</td><td>b</td><td>4</td><td>b</td></tr>\n",
       "\t<tr><th scope=row>3</th><td>3</td><td>c</td><td>6</td><td>c</td></tr>\n",
       "</tbody>\n",
       "</table>\n"
      ],
      "text/latex": [
       "\\begin{tabular}{r|llll}\n",
       "  & col.name.1 & SECOND COLUMN NEW NAME & col1.times.2 & copy.of.col2\\\\\n",
       "\\hline\n",
       "\t1 & 1 & a & 2 & a\\\\\n",
       "\t2 & 2 & b & 4 & b\\\\\n",
       "\t3 & 3 & c & 6 & c\\\\\n",
       "\\end{tabular}\n"
      ],
      "text/plain": [
       "  col.name.1 SECOND COLUMN NEW NAME col1.times.2 copy.of.col2\n",
       "1          1                      a            2            a\n",
       "2          2                      b            4            b\n",
       "3          3                      c            6            c"
      ]
     },
     "metadata": {},
     "output_type": "display_data"
    },
    {
     "data": {
      "text/html": [
       "<table>\n",
       "<thead><tr><th></th><th scope=col>col.name.1</th><th scope=col>col.name.2</th><th scope=col>newcol</th><th scope=col>copy.of.col2</th><th scope=col>col1.times.2</th></tr></thead>\n",
       "<tbody>\n",
       "\t<tr><th scope=row>1</th><td>1</td><td>a</td><td>2</td><td>a</td><td>1</td></tr>\n",
       "\t<tr><th scope=row>2</th><td>2</td><td>b</td><td>4</td><td>b</td><td>2</td></tr>\n",
       "\t<tr><th scope=row>3</th><td>3</td><td>c</td><td>6</td><td>c</td><td>3</td></tr>\n",
       "</tbody>\n",
       "</table>\n"
      ],
      "text/latex": [
       "\\begin{tabular}{r|lllll}\n",
       "  & col.name.1 & col.name.2 & newcol & copy.of.col2 & col1.times.2\\\\\n",
       "\\hline\n",
       "\t1 & 1 & a & 2 & a & 1\\\\\n",
       "\t2 & 2 & b & 4 & b & 2\\\\\n",
       "\t3 & 3 & c & 6 & c & 3\\\\\n",
       "\\end{tabular}\n"
      ],
      "text/plain": [
       "  col.name.1 col.name.2 newcol copy.of.col2 col1.times.2\n",
       "1          1          a      2            a            1\n",
       "2          2          b      4            b            2\n",
       "3          3          c      6            c            3"
      ]
     },
     "metadata": {},
     "output_type": "display_data"
    }
   ],
   "source": [
    "colnames(df)[2] <- 'SECOND COLUMN NEW NAME'\n",
    "df\n",
    "# Rename all at once with a vector\n",
    "colnames(df3) <- c('col.name.1', 'col.name.2', 'newcol', 'copy.of.col2' ,'col1.times.2')\n",
    "df3"
   ]
  },
  {
   "cell_type": "code",
   "execution_count": 56,
   "metadata": {
    "collapsed": false
   },
   "outputs": [
    {
     "data": {
      "text/html": [
       "<table>\n",
       "<thead><tr><th></th><th scope=col>col.name.1</th><th scope=col>SECOND COLUMN NEW NAME</th><th scope=col>col1.times.2</th><th scope=col>copy.of.col2</th></tr></thead>\n",
       "<tbody>\n",
       "\t<tr><th scope=row>1</th><td>1</td><td>a</td><td>2</td><td>a</td></tr>\n",
       "\t<tr><th scope=row>2</th><td>2</td><td>b</td><td>4</td><td>b</td></tr>\n",
       "\t<tr><th scope=row>3</th><td>3</td><td>c</td><td>6</td><td>c</td></tr>\n",
       "\t<tr><th scope=row>NA</th><td>NA</td><td>NA</td><td>NA</td><td>NA</td></tr>\n",
       "\t<tr><th scope=row>NA.1</th><td>NA</td><td>NA</td><td>NA</td><td>NA</td></tr>\n",
       "\t<tr><th scope=row>NA.2</th><td>NA</td><td>NA</td><td>NA</td><td>NA</td></tr>\n",
       "\t<tr><th scope=row>NA.3</th><td>NA</td><td>NA</td><td>NA</td><td>NA</td></tr>\n",
       "\t<tr><th scope=row>NA.4</th><td>NA</td><td>NA</td><td>NA</td><td>NA</td></tr>\n",
       "\t<tr><th scope=row>NA.5</th><td>NA</td><td>NA</td><td>NA</td><td>NA</td></tr>\n",
       "\t<tr><th scope=row>NA.6</th><td>NA</td><td>NA</td><td>NA</td><td>NA</td></tr>\n",
       "</tbody>\n",
       "</table>\n"
      ],
      "text/latex": [
       "\\begin{tabular}{r|llll}\n",
       "  & col.name.1 & SECOND COLUMN NEW NAME & col1.times.2 & copy.of.col2\\\\\n",
       "\\hline\n",
       "\t1 & 1 & a & 2 & a\\\\\n",
       "\t2 & 2 & b & 4 & b\\\\\n",
       "\t3 & 3 & c & 6 & c\\\\\n",
       "\tNA & NA & NA & NA & NA\\\\\n",
       "\tNA.1 & NA & NA & NA & NA\\\\\n",
       "\tNA.2 & NA & NA & NA & NA\\\\\n",
       "\tNA.3 & NA & NA & NA & NA\\\\\n",
       "\tNA.4 & NA & NA & NA & NA\\\\\n",
       "\tNA.5 & NA & NA & NA & NA\\\\\n",
       "\tNA.6 & NA & NA & NA & NA\\\\\n",
       "\\end{tabular}\n"
      ],
      "text/plain": [
       "     col.name.1 SECOND COLUMN NEW NAME col1.times.2 copy.of.col2\n",
       "1             1                      a            2            a\n",
       "2             2                      b            4            b\n",
       "3             3                      c            6            c\n",
       "NA           NA                   <NA>           NA         <NA>\n",
       "NA.1         NA                   <NA>           NA         <NA>\n",
       "NA.2         NA                   <NA>           NA         <NA>\n",
       "NA.3         NA                   <NA>           NA         <NA>\n",
       "NA.4         NA                   <NA>           NA         <NA>\n",
       "NA.5         NA                   <NA>           NA         <NA>\n",
       "NA.6         NA                   <NA>           NA         <NA>"
      ]
     },
     "metadata": {},
     "output_type": "display_data"
    },
    {
     "data": {
      "text/html": [
       "<table>\n",
       "<thead><tr><th></th><th scope=col>col.name.1</th><th scope=col>SECOND COLUMN NEW NAME</th><th scope=col>col1.times.2</th><th scope=col>copy.of.col2</th></tr></thead>\n",
       "<tbody>\n",
       "\t<tr><th scope=row>1</th><td>1</td><td>a</td><td>2</td><td>a</td></tr>\n",
       "\t<tr><th scope=row>3</th><td>3</td><td>c</td><td>6</td><td>c</td></tr>\n",
       "</tbody>\n",
       "</table>\n"
      ],
      "text/latex": [
       "\\begin{tabular}{r|llll}\n",
       "  & col.name.1 & SECOND COLUMN NEW NAME & col1.times.2 & copy.of.col2\\\\\n",
       "\\hline\n",
       "\t1 & 1 & a & 2 & a\\\\\n",
       "\t3 & 3 & c & 6 & c\\\\\n",
       "\\end{tabular}\n"
      ],
      "text/plain": [
       "  col.name.1 SECOND COLUMN NEW NAME col1.times.2 copy.of.col2\n",
       "1          1                      a            2            a\n",
       "3          3                      c            6            c"
      ]
     },
     "metadata": {},
     "output_type": "display_data"
    }
   ],
   "source": [
    "first.ten.rows <- df[1:10, ] # Same as head(df, 10)\n",
    "first.ten.rows\n",
    "everything.but.row.two <- df[-2, ]\n",
    "everything.but.row.two"
   ]
  },
  {
   "cell_type": "code",
   "execution_count": 57,
   "metadata": {
    "collapsed": false
   },
   "outputs": [
    {
     "data": {
      "text/html": [
       "<table>\n",
       "<thead><tr><th></th><th scope=col>col.name.1</th><th scope=col>SECOND COLUMN NEW NAME</th><th scope=col>col1.times.2</th><th scope=col>copy.of.col2</th></tr></thead>\n",
       "<tbody>\n",
       "</tbody>\n",
       "</table>\n"
      ],
      "text/latex": [
       "\\begin{tabular}{r|llll}\n",
       "  & col.name.1 & SECOND COLUMN NEW NAME & col1.times.2 & copy.of.col2\\\\\n",
       "\\hline\n",
       "\\end{tabular}\n"
      ],
      "text/plain": [
       "[1] col.name.1             SECOND COLUMN NEW NAME col1.times.2          \n",
       "[4] copy.of.col2          \n",
       "<0 rows> (or 0-length row.names)"
      ]
     },
     "metadata": {},
     "output_type": "display_data"
    }
   ],
   "source": [
    "sub1 <- df[ (df$col.name.1 > 8 & df$col1.times.2 > 10), ]\n",
    "sub1"
   ]
  },
  {
   "cell_type": "code",
   "execution_count": 58,
   "metadata": {
    "collapsed": false
   },
   "outputs": [
    {
     "data": {
      "text/html": [
       "<table>\n",
       "<thead><tr><th></th><th scope=col>col.name.1</th><th scope=col>SECOND COLUMN NEW NAME</th><th scope=col>col1.times.2</th></tr></thead>\n",
       "<tbody>\n",
       "\t<tr><th scope=row>1</th><td>1</td><td>a</td><td>2</td></tr>\n",
       "\t<tr><th scope=row>2</th><td>2</td><td>b</td><td>4</td></tr>\n",
       "\t<tr><th scope=row>3</th><td>3</td><td>c</td><td>6</td></tr>\n",
       "</tbody>\n",
       "</table>\n"
      ],
      "text/latex": [
       "\\begin{tabular}{r|lll}\n",
       "  & col.name.1 & SECOND COLUMN NEW NAME & col1.times.2\\\\\n",
       "\\hline\n",
       "\t1 & 1 & a & 2\\\\\n",
       "\t2 & 2 & b & 4\\\\\n",
       "\t3 & 3 & c & 6\\\\\n",
       "\\end{tabular}\n"
      ],
      "text/plain": [
       "  col.name.1 SECOND COLUMN NEW NAME col1.times.2\n",
       "1          1                      a            2\n",
       "2          2                      b            4\n",
       "3          3                      c            6"
      ]
     },
     "metadata": {},
     "output_type": "display_data"
    },
    {
     "data": {
      "text/html": [
       "<table>\n",
       "<thead><tr><th></th><th scope=col>col.name.1</th><th scope=col>col1.times.2</th></tr></thead>\n",
       "<tbody>\n",
       "\t<tr><th scope=row>1</th><td>1</td><td>2</td></tr>\n",
       "\t<tr><th scope=row>2</th><td>2</td><td>4</td></tr>\n",
       "\t<tr><th scope=row>3</th><td>3</td><td>6</td></tr>\n",
       "</tbody>\n",
       "</table>\n"
      ],
      "text/latex": [
       "\\begin{tabular}{r|ll}\n",
       "  & col.name.1 & col1.times.2\\\\\n",
       "\\hline\n",
       "\t1 & 1 & 2\\\\\n",
       "\t2 & 2 & 4\\\\\n",
       "\t3 & 3 & 6\\\\\n",
       "\\end{tabular}\n"
      ],
      "text/plain": [
       "  col.name.1 col1.times.2\n",
       "1          1            2\n",
       "2          2            4\n",
       "3          3            6"
      ]
     },
     "metadata": {},
     "output_type": "display_data"
    },
    {
     "data": {
      "text/html": [
       "<table>\n",
       "<thead><tr><th></th><th scope=col>SECOND COLUMN NEW NAME</th><th scope=col>col1.times.2</th><th scope=col>copy.of.col2</th></tr></thead>\n",
       "<tbody>\n",
       "\t<tr><th scope=row>1</th><td>a</td><td>2</td><td>a</td></tr>\n",
       "\t<tr><th scope=row>2</th><td>b</td><td>4</td><td>b</td></tr>\n",
       "\t<tr><th scope=row>3</th><td>c</td><td>6</td><td>c</td></tr>\n",
       "</tbody>\n",
       "</table>\n"
      ],
      "text/latex": [
       "\\begin{tabular}{r|lll}\n",
       "  & SECOND COLUMN NEW NAME & col1.times.2 & copy.of.col2\\\\\n",
       "\\hline\n",
       "\t1 & a & 2 & a\\\\\n",
       "\t2 & b & 4 & b\\\\\n",
       "\t3 & c & 6 & c\\\\\n",
       "\\end{tabular}\n"
      ],
      "text/plain": [
       "  SECOND COLUMN NEW NAME col1.times.2 copy.of.col2\n",
       "1                      a            2            a\n",
       "2                      b            4            b\n",
       "3                      c            6            c"
      ]
     },
     "metadata": {},
     "output_type": "display_data"
    },
    {
     "data": {
      "text/html": [
       "<table>\n",
       "<thead><tr><th></th><th scope=col>SECOND COLUMN NEW NAME</th><th scope=col>copy.of.col2</th></tr></thead>\n",
       "<tbody>\n",
       "\t<tr><th scope=row>1</th><td>a</td><td>a</td></tr>\n",
       "\t<tr><th scope=row>2</th><td>b</td><td>b</td></tr>\n",
       "\t<tr><th scope=row>3</th><td>c</td><td>c</td></tr>\n",
       "</tbody>\n",
       "</table>\n"
      ],
      "text/latex": [
       "\\begin{tabular}{r|ll}\n",
       "  & SECOND COLUMN NEW NAME & copy.of.col2\\\\\n",
       "\\hline\n",
       "\t1 & a & a\\\\\n",
       "\t2 & b & b\\\\\n",
       "\t3 & c & c\\\\\n",
       "\\end{tabular}\n"
      ],
      "text/plain": [
       "  SECOND COLUMN NEW NAME copy.of.col2\n",
       "1                      a            a\n",
       "2                      b            b\n",
       "3                      c            c"
      ]
     },
     "metadata": {},
     "output_type": "display_data"
    }
   ],
   "source": [
    "df[, c(1, 2, 3)] #Grab cols 1 2 3\n",
    "df[, c('col.name.1', 'col1.times.2')] # by name\n",
    "df[, -1] # keep all but first column\n",
    "df[, -c(1, 3)] # drop cols 1 and 3"
   ]
  },
  {
   "cell_type": "code",
   "execution_count": null,
   "metadata": {
    "collapsed": true
   },
   "outputs": [],
   "source": []
  },
  {
   "cell_type": "code",
   "execution_count": null,
   "metadata": {
    "collapsed": true
   },
   "outputs": [],
   "source": []
  },
  {
   "cell_type": "code",
   "execution_count": null,
   "metadata": {
    "collapsed": true
   },
   "outputs": [],
   "source": []
  },
  {
   "cell_type": "code",
   "execution_count": null,
   "metadata": {
    "collapsed": true
   },
   "outputs": [],
   "source": []
  },
  {
   "cell_type": "code",
   "execution_count": null,
   "metadata": {
    "collapsed": true
   },
   "outputs": [],
   "source": []
  },
  {
   "cell_type": "code",
   "execution_count": null,
   "metadata": {
    "collapsed": true
   },
   "outputs": [],
   "source": []
  },
  {
   "cell_type": "code",
   "execution_count": null,
   "metadata": {
    "collapsed": true
   },
   "outputs": [],
   "source": []
  }
 ],
 "metadata": {
  "anaconda-cloud": {},
  "kernelspec": {
   "display_name": "R",
   "language": "R",
   "name": "ir"
  },
  "language_info": {
   "codemirror_mode": "r",
   "file_extension": ".r",
   "mimetype": "text/x-r-source",
   "name": "R",
   "pygments_lexer": "r",
   "version": "3.3.1"
  }
 },
 "nbformat": 4,
 "nbformat_minor": 0
}
