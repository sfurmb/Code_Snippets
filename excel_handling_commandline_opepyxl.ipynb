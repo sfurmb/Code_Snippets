{
 "cells": [
  {
   "cell_type": "code",
   "execution_count": 1,
   "metadata": {
    "collapsed": false
   },
   "outputs": [
    {
     "data": {
      "text/plain": [
       "['sheetA', 'Sheet2', 'Sheet3']"
      ]
     },
     "execution_count": 1,
     "metadata": {},
     "output_type": "execute_result"
    }
   ],
   "source": [
    "# Load openpyxl\n",
    "import openpyxl\n",
    "wb = openpyxl.load_workbook('test.xlsx')\n",
    "wb.get_sheet_names()"
   ]
  },
  {
   "cell_type": "code",
   "execution_count": 2,
   "metadata": {
    "collapsed": false
   },
   "outputs": [
    {
     "name": "stdout",
     "output_type": "stream",
     "text": [
      "col1\n",
      "2015-04-01 00:00:00\n"
     ]
    }
   ],
   "source": [
    "# cell values after finding the sheet name\n",
    "sheet = wb.get_sheet_by_name('sheetA')\n",
    "sheet.title\n",
    "print sheet['A1'].value\n",
    "print sheet['C2'].value"
   ]
  },
  {
   "cell_type": "code",
   "execution_count": 3,
   "metadata": {
    "collapsed": false
   },
   "outputs": [
    {
     "name": "stdout",
     "output_type": "stream",
     "text": [
      "5\n",
      "3\n"
     ]
    }
   ],
   "source": [
    "# Data value limits\n",
    "print sheet.get_highest_row()\n",
    "print sheet.get_highest_column()"
   ]
  },
  {
   "cell_type": "code",
   "execution_count": 4,
   "metadata": {
    "collapsed": false
   },
   "outputs": [
    {
     "name": "stdout",
     "output_type": "stream",
     "text": [
      "C\n",
      "a\n"
     ]
    }
   ],
   "source": [
    "# Column letter insead of names\n",
    "from openpyxl.cell import get_column_letter, column_index_from_string\n",
    "wb = openpyxl.load_workbook('test.xlsx')\n",
    "sheet = wb.get_sheet_by_name('sheetA')\n",
    "print get_column_letter(sheet.get_highest_column())\n",
    "print sheet[\"A2\"].value"
   ]
  },
  {
   "cell_type": "code",
   "execution_count": 5,
   "metadata": {
    "collapsed": false
   },
   "outputs": [
    {
     "name": "stdout",
     "output_type": "stream",
     "text": [
      "('A1', u'col1')\n",
      "('B1', u'col2')\n",
      "('C1', u'col3')\n",
      "--- END OF ROW ---\n",
      "('A2', u'a')\n",
      "('B2', 1)\n",
      "('C2', datetime.datetime(2015, 4, 1, 0, 0))\n",
      "--- END OF ROW ---\n",
      "('A3', u'b')\n",
      "('B3', 2)\n",
      "('C3', datetime.datetime(2015, 4, 2, 0, 0))\n",
      "--- END OF ROW ---\n",
      "('A4', u'c')\n",
      "('B4', 3)\n",
      "('C4', datetime.datetime(2015, 4, 3, 0, 0))\n",
      "--- END OF ROW ---\n",
      "('A5', u'd')\n",
      "('B5', 4)\n",
      "('C5', datetime.datetime(2015, 4, 4, 0, 0))\n",
      "--- END OF ROW ---\n"
     ]
    }
   ],
   "source": [
    "# Print data\n",
    "for rowOfCellObjects in sheet['A1':'C5']:\n",
    "    for cellObj in rowOfCellObjects:\n",
    "        print(cellObj.coordinate, cellObj.value)\n",
    "    print('--- END OF ROW ---')"
   ]
  },
  {
   "cell_type": "code",
   "execution_count": 6,
   "metadata": {
    "collapsed": false
   },
   "outputs": [
    {
     "name": "stdout",
     "output_type": "stream",
     "text": [
      "col3\n",
      "2015-04-01 00:00:00\n",
      "2015-04-02 00:00:00\n",
      "2015-04-03 00:00:00\n",
      "2015-04-04 00:00:00\n"
     ]
    }
   ],
   "source": [
    "# print specific column\n",
    "for cellObj in sheet.columns[2]:\n",
    "    print(cellObj.value)"
   ]
  }
 ],
 "metadata": {
  "kernelspec": {
   "display_name": "Python 2",
   "language": "python",
   "name": "python2"
  },
  "language_info": {
   "codemirror_mode": {
    "name": "ipython",
    "version": 2
   },
   "file_extension": ".py",
   "mimetype": "text/x-python",
   "name": "python",
   "nbconvert_exporter": "python",
   "pygments_lexer": "ipython2",
   "version": "2.7.11"
  }
 },
 "nbformat": 4,
 "nbformat_minor": 0
}
